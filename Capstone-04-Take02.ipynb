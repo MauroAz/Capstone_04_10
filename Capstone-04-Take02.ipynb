{
 "cells": [
  {
   "cell_type": "markdown",
   "metadata": {},
   "source": [
    "Intro...."
   ]
  },
  {
   "cell_type": "markdown",
   "metadata": {},
   "source": [
    "### Introduction: Home Credit Default Risk Competition\n",
    "This notebook is intended for those who are new to machine learning competitions or want a gentle introduction to the problem. I purposely avoid jumping into complicated models or joining together lots of data in order to show the basics of how to get started in machine learning! Any comments or suggestions are much appreciated.\n",
    "\n",
    "In this notebook, we will take an initial look at the Home Credit default risk machine learning competition currently hosted on Kaggle. The objective of this competition is to use historical loan application data to predict whether or not an applicant will be able to repay a loan. This is a standard supervised classification task:\n",
    "\n",
    "Supervised: The labels are included in the training data and the goal is to train a model to learn to predict the labels from the features\n",
    "Classification: The label is a binary variable, 0 (will repay loan on time), 1 (will have difficulty repaying loan)"
   ]
  },
  {
   "cell_type": "markdown",
   "metadata": {},
   "source": [
    "### Data\n",
    "The data is provided by Home Credit, a service dedicated to provided lines of credit (loans) to the unbanked population. Predicting whether or not a client will repay a loan or have difficulty is a critical business need, and Home Credit is hosting this competition on Kaggle to see what sort of models the machine learning community can develop to help them in this task.\n",
    "\n",
    "There are 7 different sources of data:\n",
    "\n",
    "application_train/application_test: the main training and testing data with information about each loan application at Home Credit. Every loan has its own row and is identified by the feature SK_ID_CURR. The training application data comes with the TARGET indicating 0: the loan was repaid or 1: the loan was not repaid.\n",
    "bureau: data concerning client's previous credits from other financial institutions. Each previous credit has its own row in bureau, but one loan in the application data can have multiple previous credits.\n",
    "bureau_balance: monthly data about the previous credits in bureau. Each row is one month of a previous credit, and a single previous credit can have multiple rows, one for each month of the credit length.\n",
    "previous_application: previous applications for loans at Home Credit of clients who have loans in the application data. Each current loan in the application data can have multiple previous loans. Each previous application has one row and is identified by the feature SK_ID_PREV.\n",
    "POS_CASH_BALANCE: monthly data about previous point of sale or cash loans clients have had with Home Credit. Each row is one month of a previous point of sale or cash loan, and a single previous loan can have many rows.\n",
    "credit_card_balance: monthly data about previous credit cards clients have had with Home Credit. Each row is one month of a credit card balance, and a single credit card can have many rows.\n",
    "installments_payment: payment history for previous loans at Home Credit. There is one row for every made payment and one row for every missed payment.\n",
    "This diagram shows how all of the data is related:"
   ]
  },
  {
   "cell_type": "code",
   "execution_count": 13,
   "metadata": {},
   "outputs": [
    {
     "ename": "SyntaxError",
     "evalue": "invalid syntax (<ipython-input-13-60c6a5fa42d4>, line 1)",
     "output_type": "error",
     "traceback": [
      "\u001b[0;36m  File \u001b[0;32m\"<ipython-input-13-60c6a5fa42d4>\"\u001b[0;36m, line \u001b[0;32m1\u001b[0m\n\u001b[0;31m    Make a SCHEMA\u001b[0m\n\u001b[0m         ^\u001b[0m\n\u001b[0;31mSyntaxError\u001b[0m\u001b[0;31m:\u001b[0m invalid syntax\n"
     ]
    }
   ],
   "source": [
    "Make a SCHEMA"
   ]
  },
  {
   "cell_type": "code",
   "execution_count": null,
   "metadata": {},
   "outputs": [],
   "source": []
  },
  {
   "cell_type": "markdown",
   "metadata": {},
   "source": [
    "Moreover, we are provided with the definitions of all the columns (in HomeCredit_columns_description.csv) and an example of the expected submission file.\n",
    "\n",
    "In this notebook, we will stick to using only the main application training and testing data. Although if we want to have any hope of seriously competing, we need to use all the data, for now we will stick to one file which should be more manageable. This will let us establish a baseline that we can then improve upon. With these projects, it's best to build up an understanding of the problem a little at a time rather than diving all the way in and getting completely lost!\n",
    "\n",
    ">>>????????\n",
    ">>>????????\n",
    "???????????\n",
    "### REVIEW THIS SHIZZLE...\n",
    ">>>????????\n",
    "???????????\n",
    "???????????"
   ]
  },
  {
   "cell_type": "code",
   "execution_count": null,
   "metadata": {},
   "outputs": [],
   "source": []
  },
  {
   "cell_type": "markdown",
   "metadata": {},
   "source": [
    "## Categorizing learning content\n",
    "From hand-coded to an algorithmic approach\n",
    "https://medium.com/coursera-engineering/data-driven-content-categorization-89de0104bcbd"
   ]
  },
  {
   "cell_type": "code",
   "execution_count": null,
   "metadata": {},
   "outputs": [],
   "source": []
  },
  {
   "cell_type": "code",
   "execution_count": null,
   "metadata": {},
   "outputs": [],
   "source": []
  },
  {
   "cell_type": "markdown",
   "metadata": {},
   "source": [
    "### ROC Curves & AUC\n",
    "and Area Under the Curve (AUC) Explained - https://www.youtube.com/watch?v=OAl6eAyP-yo\n",
    "\n",
    "\n",
    "Advantages of AUC vs standard accuracy:\n",
    "https://datascience.stackexchange.com/questions/806/advantages-of-auc-vs-standard-accuracy\n",
    "\n",
    "What does AUC stand for and what is it?: https://stats.stackexchange.com/questions/132777/what-does-auc-stand-for-and-what-is-it\n",
    "\n"
   ]
  },
  {
   "cell_type": "markdown",
   "metadata": {},
   "source": [
    "#### F1 score - https://en.wikipedia.org/wiki/F1_score\n",
    "RESEARCH...."
   ]
  },
  {
   "cell_type": "code",
   "execution_count": null,
   "metadata": {},
   "outputs": [],
   "source": []
  },
  {
   "cell_type": "code",
   "execution_count": null,
   "metadata": {},
   "outputs": [],
   "source": []
  },
  {
   "cell_type": "code",
   "execution_count": null,
   "metadata": {},
   "outputs": [],
   "source": []
  },
  {
   "cell_type": "markdown",
   "metadata": {},
   "source": [
    "Advantages of AUC vs standard accuracy\n",
    "??? Source: https://datascience.stackexchange.com/questions/806/advantages-of-auc-vs-standard-accuracy"
   ]
  },
  {
   "cell_type": "code",
   "execution_count": null,
   "metadata": {},
   "outputs": [],
   "source": []
  },
  {
   "cell_type": "code",
   "execution_count": 1,
   "metadata": {},
   "outputs": [],
   "source": [
    "# Imports\n",
    "# Standard data science stack: numpy, pandas, sklearn, matplotlib.\n",
    "# numpy and pandas for data manipulation\n",
    "import numpy as np\n",
    "import pandas as pd \n",
    "\n",
    "# numpy and pandas for data manipulation\n",
    "import numpy as np\n",
    "import pandas as pd \n",
    "\n",
    "# sklearn preprocessing for dealing with categorical variables\n",
    "from sklearn.preprocessing import LabelEncoder\n",
    "\n",
    "# File system manangement\n",
    "### import os\n",
    "\n",
    "# Suppress warnings \n",
    "### import warnings\n",
    "### warnings.filterwarnings('ignore')\n",
    "\n",
    "# matplotlib and seaborn for plotting\n",
    "import matplotlib.pyplot as plt\n",
    "import seaborn as sns"
   ]
  },
  {
   "cell_type": "code",
   "execution_count": 2,
   "metadata": {},
   "outputs": [],
   "source": [
    "# Training data\n",
    "app_train = pd.read_csv('/Users/mauroaz/Desktop/Capstone 4 - END/_Capstone_04_Loan/home-credit-default-risk/application_train.csv')\n",
    "app_test = pd.read_csv('/Users/mauroaz/Desktop/Capstone 4 - END/_Capstone_04_Loan/home-credit-default-risk/application_test.csv')\n",
    "bureau_bal = pd.read_csv('/Users/mauroaz/Desktop/Capstone 4 - END/_Capstone_04_Loan/home-credit-default-risk/bureau_balance.csv')\n",
    "bureau = pd.read_csv('/Users/mauroaz/Desktop/Capstone 4 - END/_Capstone_04_Loan/home-credit-default-risk/bureau.csv')\n",
    "CC_balance = pd.read_csv('/Users/mauroaz/Desktop/Capstone 4 - END/_Capstone_04_Loan/home-credit-default-risk/credit_card_balance.csv')\n",
    "Install_pay = pd.read_csv('/Users/mauroaz/Desktop/Capstone 4 - END/_Capstone_04_Loan/home-credit-default-risk/installments_payments.csv')\n",
    "Pos_Cash = pd.read_csv('/Users/mauroaz/Desktop/Capstone 4 - END/_Capstone_04_Loan/home-credit-default-risk/POS_CASH_balance.csv')\n",
    "Pre_app = pd.read_csv ('/Users/mauroaz/Desktop/Capstone 4 - END/_Capstone_04_Loan/home-credit-default-risk/previous_application.csv')\n",
    "Sample_sub = pd.read_csv('/Users/mauroaz/Desktop/Capstone 4 - END/_Capstone_04_Loan/home-credit-default-risk/sample_submission.csv')\n",
    "\n",
    "Home_Credit = pd.read_csv('/Users/mauroaz/Desktop/Capstone 4 - END/_Capstone_04_Loan/home-credit-default-risk/HomeCredit_columns_description.csv')"
   ]
  },
  {
   "cell_type": "code",
   "execution_count": null,
   "metadata": {},
   "outputs": [],
   "source": []
  },
  {
   "cell_type": "markdown",
   "metadata": {},
   "source": [
    "Exploratory Data Analysis\n",
    "Exploratory Data Analysis (EDA) \n",
    "\n",
    "is an open-ended process where we calculate statistics and make figures to find trends, anomalies, patterns, or relationships within the data. \n",
    "\n",
    "The goal of EDA is to learn what our data can tell us. \n",
    "\n",
    "It generally starts out with a high level overview, then narrows in to specific areas as we find intriguing areas of the data. \n",
    "\n",
    "The findings may be interesting in their own right, or they can be used to inform our modeling choices, such as by helping us decide which features to use."
   ]
  },
  {
   "cell_type": "code",
   "execution_count": null,
   "metadata": {},
   "outputs": [],
   "source": []
  },
  {
   "cell_type": "markdown",
   "metadata": {},
   "source": [
    "FONTE: \n",
    "    \n",
    "    https://www.kaggle.com/willkoehrsen/start-here-a-gentle-introduction"
   ]
  },
  {
   "cell_type": "code",
   "execution_count": null,
   "metadata": {},
   "outputs": [],
   "source": []
  },
  {
   "cell_type": "code",
   "execution_count": 3,
   "metadata": {},
   "outputs": [
    {
     "name": "stdout",
     "output_type": "stream",
     "text": [
      "app_train -  rows: 307511  columns: 122\n",
      "app_test -  rows: 48744  columns: 121\n",
      "bureau -  rows: 1716428  columns: 17\n",
      "bureau_bal -  rows: 1048575  columns: 3\n",
      "CC_balance -  rows: 3840312  columns: 23\n",
      "Install_pay -  rows: 13605401  columns: 8\n",
      "Pre_app -  rows: 1670214  columns: 37\n",
      "Pos_Cash -  rows: 10001358  columns: 8\n"
     ]
    }
   ],
   "source": [
    "## Glimpse the data\n",
    "\n",
    "print(\"app_train -  rows:\",app_train.shape[0],\" columns:\", app_train.shape[1])\n",
    "print(\"app_test -  rows:\",app_test.shape[0],\" columns:\", app_test.shape[1])\n",
    "print(\"bureau -  rows:\",bureau.shape[0],\" columns:\", bureau.shape[1])\n",
    "print(\"bureau_bal -  rows:\",bureau_bal.shape[0],\" columns:\", bureau_bal.shape[1])\n",
    "print(\"CC_balance -  rows:\",CC_balance.shape[0],\" columns:\", CC_balance.shape[1])\n",
    "print(\"Install_pay -  rows:\",Install_pay.shape[0],\" columns:\", Install_pay.shape[1])\n",
    "print(\"Pre_app -  rows:\",Pre_app.shape[0],\" columns:\", Pre_app.shape[1])\n",
    "print(\"Pos_Cash -  rows:\",Pos_Cash.shape[0],\" columns:\", Pos_Cash.shape[1])"
   ]
  },
  {
   "cell_type": "code",
   "execution_count": null,
   "metadata": {},
   "outputs": [],
   "source": []
  },
  {
   "cell_type": "code",
   "execution_count": null,
   "metadata": {},
   "outputs": [],
   "source": []
  },
  {
   "cell_type": "code",
   "execution_count": null,
   "metadata": {},
   "outputs": [],
   "source": []
  },
  {
   "cell_type": "code",
   "execution_count": null,
   "metadata": {},
   "outputs": [],
   "source": []
  },
  {
   "cell_type": "code",
   "execution_count": 4,
   "metadata": {},
   "outputs": [
    {
     "data": {
      "text/plain": [
       "(307511, 122)"
      ]
     },
     "execution_count": 4,
     "metadata": {},
     "output_type": "execute_result"
    }
   ],
   "source": [
    "#Only data-set in USE... till further UPDATE...\n",
    "app_train.shape"
   ]
  },
  {
   "cell_type": "code",
   "execution_count": 37,
   "metadata": {},
   "outputs": [
    {
     "data": {
      "text/plain": [
       "(48744, 122)"
      ]
     },
     "execution_count": 37,
     "metadata": {},
     "output_type": "execute_result"
    }
   ],
   "source": [
    "app_test.shape"
   ]
  },
  {
   "cell_type": "code",
   "execution_count": 39,
   "metadata": {},
   "outputs": [
    {
     "data": {
      "text/plain": [
       "48744"
      ]
     },
     "execution_count": 39,
     "metadata": {},
     "output_type": "execute_result"
    }
   ],
   "source": [
    "len(app_test)"
   ]
  },
  {
   "cell_type": "code",
   "execution_count": 40,
   "metadata": {},
   "outputs": [
    {
     "data": {
      "text/plain": [
       "307511"
      ]
     },
     "execution_count": 40,
     "metadata": {},
     "output_type": "execute_result"
    }
   ],
   "source": [
    "len(app_train)"
   ]
  },
  {
   "cell_type": "code",
   "execution_count": 41,
   "metadata": {},
   "outputs": [
    {
     "data": {
      "text/plain": [
       "356255"
      ]
     },
     "execution_count": 41,
     "metadata": {},
     "output_type": "execute_result"
    }
   ],
   "source": [
    "len(app_test) + len(app_train)"
   ]
  },
  {
   "cell_type": "code",
   "execution_count": 38,
   "metadata": {},
   "outputs": [
    {
     "data": {
      "text/html": [
       "<div>\n",
       "<style scoped>\n",
       "    .dataframe tbody tr th:only-of-type {\n",
       "        vertical-align: middle;\n",
       "    }\n",
       "\n",
       "    .dataframe tbody tr th {\n",
       "        vertical-align: top;\n",
       "    }\n",
       "\n",
       "    .dataframe thead th {\n",
       "        text-align: right;\n",
       "    }\n",
       "</style>\n",
       "<table border=\"1\" class=\"dataframe\">\n",
       "  <thead>\n",
       "    <tr style=\"text-align: right;\">\n",
       "      <th></th>\n",
       "      <th>SK_ID_CURR</th>\n",
       "      <th>NAME_CONTRACT_TYPE</th>\n",
       "      <th>CODE_GENDER</th>\n",
       "      <th>FLAG_OWN_CAR</th>\n",
       "      <th>FLAG_OWN_REALTY</th>\n",
       "      <th>CNT_CHILDREN</th>\n",
       "      <th>AMT_INCOME_TOTAL</th>\n",
       "      <th>AMT_CREDIT</th>\n",
       "      <th>AMT_ANNUITY</th>\n",
       "      <th>AMT_GOODS_PRICE</th>\n",
       "      <th>...</th>\n",
       "      <th>FLAG_DOCUMENT_19</th>\n",
       "      <th>FLAG_DOCUMENT_20</th>\n",
       "      <th>FLAG_DOCUMENT_21</th>\n",
       "      <th>AMT_REQ_CREDIT_BUREAU_HOUR</th>\n",
       "      <th>AMT_REQ_CREDIT_BUREAU_DAY</th>\n",
       "      <th>AMT_REQ_CREDIT_BUREAU_WEEK</th>\n",
       "      <th>AMT_REQ_CREDIT_BUREAU_MON</th>\n",
       "      <th>AMT_REQ_CREDIT_BUREAU_QRT</th>\n",
       "      <th>AMT_REQ_CREDIT_BUREAU_YEAR</th>\n",
       "      <th>DAYS_EMPLOYED_ANOM</th>\n",
       "    </tr>\n",
       "  </thead>\n",
       "  <tbody>\n",
       "    <tr>\n",
       "      <td>0</td>\n",
       "      <td>100001</td>\n",
       "      <td>Cash loans</td>\n",
       "      <td>F</td>\n",
       "      <td>N</td>\n",
       "      <td>Y</td>\n",
       "      <td>0</td>\n",
       "      <td>135000.0</td>\n",
       "      <td>568800.0</td>\n",
       "      <td>20560.5</td>\n",
       "      <td>450000.0</td>\n",
       "      <td>...</td>\n",
       "      <td>0</td>\n",
       "      <td>0</td>\n",
       "      <td>0</td>\n",
       "      <td>0.0</td>\n",
       "      <td>0.0</td>\n",
       "      <td>0.0</td>\n",
       "      <td>0.0</td>\n",
       "      <td>0.0</td>\n",
       "      <td>0.0</td>\n",
       "      <td>False</td>\n",
       "    </tr>\n",
       "    <tr>\n",
       "      <td>1</td>\n",
       "      <td>100005</td>\n",
       "      <td>Cash loans</td>\n",
       "      <td>M</td>\n",
       "      <td>N</td>\n",
       "      <td>Y</td>\n",
       "      <td>0</td>\n",
       "      <td>99000.0</td>\n",
       "      <td>222768.0</td>\n",
       "      <td>17370.0</td>\n",
       "      <td>180000.0</td>\n",
       "      <td>...</td>\n",
       "      <td>0</td>\n",
       "      <td>0</td>\n",
       "      <td>0</td>\n",
       "      <td>0.0</td>\n",
       "      <td>0.0</td>\n",
       "      <td>0.0</td>\n",
       "      <td>0.0</td>\n",
       "      <td>0.0</td>\n",
       "      <td>3.0</td>\n",
       "      <td>False</td>\n",
       "    </tr>\n",
       "    <tr>\n",
       "      <td>2</td>\n",
       "      <td>100013</td>\n",
       "      <td>Cash loans</td>\n",
       "      <td>M</td>\n",
       "      <td>Y</td>\n",
       "      <td>Y</td>\n",
       "      <td>0</td>\n",
       "      <td>202500.0</td>\n",
       "      <td>663264.0</td>\n",
       "      <td>69777.0</td>\n",
       "      <td>630000.0</td>\n",
       "      <td>...</td>\n",
       "      <td>0</td>\n",
       "      <td>0</td>\n",
       "      <td>0</td>\n",
       "      <td>0.0</td>\n",
       "      <td>0.0</td>\n",
       "      <td>0.0</td>\n",
       "      <td>0.0</td>\n",
       "      <td>1.0</td>\n",
       "      <td>4.0</td>\n",
       "      <td>False</td>\n",
       "    </tr>\n",
       "    <tr>\n",
       "      <td>3</td>\n",
       "      <td>100028</td>\n",
       "      <td>Cash loans</td>\n",
       "      <td>F</td>\n",
       "      <td>N</td>\n",
       "      <td>Y</td>\n",
       "      <td>2</td>\n",
       "      <td>315000.0</td>\n",
       "      <td>1575000.0</td>\n",
       "      <td>49018.5</td>\n",
       "      <td>1575000.0</td>\n",
       "      <td>...</td>\n",
       "      <td>0</td>\n",
       "      <td>0</td>\n",
       "      <td>0</td>\n",
       "      <td>0.0</td>\n",
       "      <td>0.0</td>\n",
       "      <td>0.0</td>\n",
       "      <td>0.0</td>\n",
       "      <td>0.0</td>\n",
       "      <td>3.0</td>\n",
       "      <td>False</td>\n",
       "    </tr>\n",
       "    <tr>\n",
       "      <td>4</td>\n",
       "      <td>100038</td>\n",
       "      <td>Cash loans</td>\n",
       "      <td>M</td>\n",
       "      <td>Y</td>\n",
       "      <td>N</td>\n",
       "      <td>1</td>\n",
       "      <td>180000.0</td>\n",
       "      <td>625500.0</td>\n",
       "      <td>32067.0</td>\n",
       "      <td>625500.0</td>\n",
       "      <td>...</td>\n",
       "      <td>0</td>\n",
       "      <td>0</td>\n",
       "      <td>0</td>\n",
       "      <td>NaN</td>\n",
       "      <td>NaN</td>\n",
       "      <td>NaN</td>\n",
       "      <td>NaN</td>\n",
       "      <td>NaN</td>\n",
       "      <td>NaN</td>\n",
       "      <td>False</td>\n",
       "    </tr>\n",
       "  </tbody>\n",
       "</table>\n",
       "<p>5 rows × 122 columns</p>\n",
       "</div>"
      ],
      "text/plain": [
       "   SK_ID_CURR NAME_CONTRACT_TYPE CODE_GENDER FLAG_OWN_CAR FLAG_OWN_REALTY  \\\n",
       "0      100001         Cash loans           F            N               Y   \n",
       "1      100005         Cash loans           M            N               Y   \n",
       "2      100013         Cash loans           M            Y               Y   \n",
       "3      100028         Cash loans           F            N               Y   \n",
       "4      100038         Cash loans           M            Y               N   \n",
       "\n",
       "   CNT_CHILDREN  AMT_INCOME_TOTAL  AMT_CREDIT  AMT_ANNUITY  AMT_GOODS_PRICE  \\\n",
       "0             0          135000.0    568800.0      20560.5         450000.0   \n",
       "1             0           99000.0    222768.0      17370.0         180000.0   \n",
       "2             0          202500.0    663264.0      69777.0         630000.0   \n",
       "3             2          315000.0   1575000.0      49018.5        1575000.0   \n",
       "4             1          180000.0    625500.0      32067.0         625500.0   \n",
       "\n",
       "   ... FLAG_DOCUMENT_19 FLAG_DOCUMENT_20 FLAG_DOCUMENT_21  \\\n",
       "0  ...                0                0                0   \n",
       "1  ...                0                0                0   \n",
       "2  ...                0                0                0   \n",
       "3  ...                0                0                0   \n",
       "4  ...                0                0                0   \n",
       "\n",
       "  AMT_REQ_CREDIT_BUREAU_HOUR AMT_REQ_CREDIT_BUREAU_DAY  \\\n",
       "0                        0.0                       0.0   \n",
       "1                        0.0                       0.0   \n",
       "2                        0.0                       0.0   \n",
       "3                        0.0                       0.0   \n",
       "4                        NaN                       NaN   \n",
       "\n",
       "   AMT_REQ_CREDIT_BUREAU_WEEK  AMT_REQ_CREDIT_BUREAU_MON  \\\n",
       "0                         0.0                        0.0   \n",
       "1                         0.0                        0.0   \n",
       "2                         0.0                        0.0   \n",
       "3                         0.0                        0.0   \n",
       "4                         NaN                        NaN   \n",
       "\n",
       "   AMT_REQ_CREDIT_BUREAU_QRT  AMT_REQ_CREDIT_BUREAU_YEAR  DAYS_EMPLOYED_ANOM  \n",
       "0                        0.0                         0.0               False  \n",
       "1                        0.0                         3.0               False  \n",
       "2                        1.0                         4.0               False  \n",
       "3                        0.0                         3.0               False  \n",
       "4                        NaN                         NaN               False  \n",
       "\n",
       "[5 rows x 122 columns]"
      ]
     },
     "execution_count": 38,
     "metadata": {},
     "output_type": "execute_result"
    }
   ],
   "source": [
    "app_test.head()"
   ]
  },
  {
   "cell_type": "code",
   "execution_count": 5,
   "metadata": {},
   "outputs": [
    {
     "data": {
      "text/html": [
       "<div>\n",
       "<style scoped>\n",
       "    .dataframe tbody tr th:only-of-type {\n",
       "        vertical-align: middle;\n",
       "    }\n",
       "\n",
       "    .dataframe tbody tr th {\n",
       "        vertical-align: top;\n",
       "    }\n",
       "\n",
       "    .dataframe thead th {\n",
       "        text-align: right;\n",
       "    }\n",
       "</style>\n",
       "<table border=\"1\" class=\"dataframe\">\n",
       "  <thead>\n",
       "    <tr style=\"text-align: right;\">\n",
       "      <th></th>\n",
       "      <th>SK_ID_CURR</th>\n",
       "      <th>TARGET</th>\n",
       "      <th>NAME_CONTRACT_TYPE</th>\n",
       "      <th>CODE_GENDER</th>\n",
       "      <th>FLAG_OWN_CAR</th>\n",
       "      <th>FLAG_OWN_REALTY</th>\n",
       "      <th>CNT_CHILDREN</th>\n",
       "      <th>AMT_INCOME_TOTAL</th>\n",
       "      <th>AMT_CREDIT</th>\n",
       "      <th>AMT_ANNUITY</th>\n",
       "      <th>...</th>\n",
       "      <th>FLAG_DOCUMENT_18</th>\n",
       "      <th>FLAG_DOCUMENT_19</th>\n",
       "      <th>FLAG_DOCUMENT_20</th>\n",
       "      <th>FLAG_DOCUMENT_21</th>\n",
       "      <th>AMT_REQ_CREDIT_BUREAU_HOUR</th>\n",
       "      <th>AMT_REQ_CREDIT_BUREAU_DAY</th>\n",
       "      <th>AMT_REQ_CREDIT_BUREAU_WEEK</th>\n",
       "      <th>AMT_REQ_CREDIT_BUREAU_MON</th>\n",
       "      <th>AMT_REQ_CREDIT_BUREAU_QRT</th>\n",
       "      <th>AMT_REQ_CREDIT_BUREAU_YEAR</th>\n",
       "    </tr>\n",
       "  </thead>\n",
       "  <tbody>\n",
       "    <tr>\n",
       "      <td>0</td>\n",
       "      <td>100002</td>\n",
       "      <td>1</td>\n",
       "      <td>Cash loans</td>\n",
       "      <td>M</td>\n",
       "      <td>N</td>\n",
       "      <td>Y</td>\n",
       "      <td>0</td>\n",
       "      <td>202500.0</td>\n",
       "      <td>406597.5</td>\n",
       "      <td>24700.5</td>\n",
       "      <td>...</td>\n",
       "      <td>0</td>\n",
       "      <td>0</td>\n",
       "      <td>0</td>\n",
       "      <td>0</td>\n",
       "      <td>0.0</td>\n",
       "      <td>0.0</td>\n",
       "      <td>0.0</td>\n",
       "      <td>0.0</td>\n",
       "      <td>0.0</td>\n",
       "      <td>1.0</td>\n",
       "    </tr>\n",
       "    <tr>\n",
       "      <td>1</td>\n",
       "      <td>100003</td>\n",
       "      <td>0</td>\n",
       "      <td>Cash loans</td>\n",
       "      <td>F</td>\n",
       "      <td>N</td>\n",
       "      <td>N</td>\n",
       "      <td>0</td>\n",
       "      <td>270000.0</td>\n",
       "      <td>1293502.5</td>\n",
       "      <td>35698.5</td>\n",
       "      <td>...</td>\n",
       "      <td>0</td>\n",
       "      <td>0</td>\n",
       "      <td>0</td>\n",
       "      <td>0</td>\n",
       "      <td>0.0</td>\n",
       "      <td>0.0</td>\n",
       "      <td>0.0</td>\n",
       "      <td>0.0</td>\n",
       "      <td>0.0</td>\n",
       "      <td>0.0</td>\n",
       "    </tr>\n",
       "    <tr>\n",
       "      <td>2</td>\n",
       "      <td>100004</td>\n",
       "      <td>0</td>\n",
       "      <td>Revolving loans</td>\n",
       "      <td>M</td>\n",
       "      <td>Y</td>\n",
       "      <td>Y</td>\n",
       "      <td>0</td>\n",
       "      <td>67500.0</td>\n",
       "      <td>135000.0</td>\n",
       "      <td>6750.0</td>\n",
       "      <td>...</td>\n",
       "      <td>0</td>\n",
       "      <td>0</td>\n",
       "      <td>0</td>\n",
       "      <td>0</td>\n",
       "      <td>0.0</td>\n",
       "      <td>0.0</td>\n",
       "      <td>0.0</td>\n",
       "      <td>0.0</td>\n",
       "      <td>0.0</td>\n",
       "      <td>0.0</td>\n",
       "    </tr>\n",
       "    <tr>\n",
       "      <td>3</td>\n",
       "      <td>100006</td>\n",
       "      <td>0</td>\n",
       "      <td>Cash loans</td>\n",
       "      <td>F</td>\n",
       "      <td>N</td>\n",
       "      <td>Y</td>\n",
       "      <td>0</td>\n",
       "      <td>135000.0</td>\n",
       "      <td>312682.5</td>\n",
       "      <td>29686.5</td>\n",
       "      <td>...</td>\n",
       "      <td>0</td>\n",
       "      <td>0</td>\n",
       "      <td>0</td>\n",
       "      <td>0</td>\n",
       "      <td>NaN</td>\n",
       "      <td>NaN</td>\n",
       "      <td>NaN</td>\n",
       "      <td>NaN</td>\n",
       "      <td>NaN</td>\n",
       "      <td>NaN</td>\n",
       "    </tr>\n",
       "    <tr>\n",
       "      <td>4</td>\n",
       "      <td>100007</td>\n",
       "      <td>0</td>\n",
       "      <td>Cash loans</td>\n",
       "      <td>M</td>\n",
       "      <td>N</td>\n",
       "      <td>Y</td>\n",
       "      <td>0</td>\n",
       "      <td>121500.0</td>\n",
       "      <td>513000.0</td>\n",
       "      <td>21865.5</td>\n",
       "      <td>...</td>\n",
       "      <td>0</td>\n",
       "      <td>0</td>\n",
       "      <td>0</td>\n",
       "      <td>0</td>\n",
       "      <td>0.0</td>\n",
       "      <td>0.0</td>\n",
       "      <td>0.0</td>\n",
       "      <td>0.0</td>\n",
       "      <td>0.0</td>\n",
       "      <td>0.0</td>\n",
       "    </tr>\n",
       "  </tbody>\n",
       "</table>\n",
       "<p>5 rows × 122 columns</p>\n",
       "</div>"
      ],
      "text/plain": [
       "   SK_ID_CURR  TARGET NAME_CONTRACT_TYPE CODE_GENDER FLAG_OWN_CAR  \\\n",
       "0      100002       1         Cash loans           M            N   \n",
       "1      100003       0         Cash loans           F            N   \n",
       "2      100004       0    Revolving loans           M            Y   \n",
       "3      100006       0         Cash loans           F            N   \n",
       "4      100007       0         Cash loans           M            N   \n",
       "\n",
       "  FLAG_OWN_REALTY  CNT_CHILDREN  AMT_INCOME_TOTAL  AMT_CREDIT  AMT_ANNUITY  \\\n",
       "0               Y             0          202500.0    406597.5      24700.5   \n",
       "1               N             0          270000.0   1293502.5      35698.5   \n",
       "2               Y             0           67500.0    135000.0       6750.0   \n",
       "3               Y             0          135000.0    312682.5      29686.5   \n",
       "4               Y             0          121500.0    513000.0      21865.5   \n",
       "\n",
       "   ...  FLAG_DOCUMENT_18 FLAG_DOCUMENT_19 FLAG_DOCUMENT_20 FLAG_DOCUMENT_21  \\\n",
       "0  ...                 0                0                0                0   \n",
       "1  ...                 0                0                0                0   \n",
       "2  ...                 0                0                0                0   \n",
       "3  ...                 0                0                0                0   \n",
       "4  ...                 0                0                0                0   \n",
       "\n",
       "  AMT_REQ_CREDIT_BUREAU_HOUR AMT_REQ_CREDIT_BUREAU_DAY  \\\n",
       "0                        0.0                       0.0   \n",
       "1                        0.0                       0.0   \n",
       "2                        0.0                       0.0   \n",
       "3                        NaN                       NaN   \n",
       "4                        0.0                       0.0   \n",
       "\n",
       "   AMT_REQ_CREDIT_BUREAU_WEEK  AMT_REQ_CREDIT_BUREAU_MON  \\\n",
       "0                         0.0                        0.0   \n",
       "1                         0.0                        0.0   \n",
       "2                         0.0                        0.0   \n",
       "3                         NaN                        NaN   \n",
       "4                         0.0                        0.0   \n",
       "\n",
       "   AMT_REQ_CREDIT_BUREAU_QRT  AMT_REQ_CREDIT_BUREAU_YEAR  \n",
       "0                        0.0                         1.0  \n",
       "1                        0.0                         0.0  \n",
       "2                        0.0                         0.0  \n",
       "3                        NaN                         NaN  \n",
       "4                        0.0                         0.0  \n",
       "\n",
       "[5 rows x 122 columns]"
      ]
     },
     "execution_count": 5,
     "metadata": {},
     "output_type": "execute_result"
    }
   ],
   "source": [
    "app_train.head()"
   ]
  },
  {
   "cell_type": "code",
   "execution_count": 6,
   "metadata": {},
   "outputs": [
    {
     "data": {
      "text/plain": [
       "0              Cash loans\n",
       "1              Cash loans\n",
       "2         Revolving loans\n",
       "3              Cash loans\n",
       "4              Cash loans\n",
       "               ...       \n",
       "307506         Cash loans\n",
       "307507         Cash loans\n",
       "307508         Cash loans\n",
       "307509         Cash loans\n",
       "307510         Cash loans\n",
       "Name: NAME_CONTRACT_TYPE, Length: 307511, dtype: object"
      ]
     },
     "execution_count": 6,
     "metadata": {},
     "output_type": "execute_result"
    }
   ],
   "source": [
    "# In order to drill down and see more info WITHIN the columns of individual TABLES.\"\n",
    "app_train['NAME_CONTRACT_TYPE']"
   ]
  },
  {
   "cell_type": "code",
   "execution_count": 7,
   "metadata": {},
   "outputs": [
    {
     "data": {
      "text/html": [
       "<div>\n",
       "<style scoped>\n",
       "    .dataframe tbody tr th:only-of-type {\n",
       "        vertical-align: middle;\n",
       "    }\n",
       "\n",
       "    .dataframe tbody tr th {\n",
       "        vertical-align: top;\n",
       "    }\n",
       "\n",
       "    .dataframe thead th {\n",
       "        text-align: right;\n",
       "    }\n",
       "</style>\n",
       "<table border=\"1\" class=\"dataframe\">\n",
       "  <thead>\n",
       "    <tr style=\"text-align: right;\">\n",
       "      <th></th>\n",
       "      <th>SK_ID_CURR</th>\n",
       "      <th>TARGET</th>\n",
       "      <th>NAME_CONTRACT_TYPE</th>\n",
       "      <th>CODE_GENDER</th>\n",
       "      <th>FLAG_OWN_CAR</th>\n",
       "      <th>FLAG_OWN_REALTY</th>\n",
       "      <th>CNT_CHILDREN</th>\n",
       "      <th>AMT_INCOME_TOTAL</th>\n",
       "      <th>AMT_CREDIT</th>\n",
       "      <th>AMT_ANNUITY</th>\n",
       "      <th>...</th>\n",
       "      <th>FLAG_DOCUMENT_18</th>\n",
       "      <th>FLAG_DOCUMENT_19</th>\n",
       "      <th>FLAG_DOCUMENT_20</th>\n",
       "      <th>FLAG_DOCUMENT_21</th>\n",
       "      <th>AMT_REQ_CREDIT_BUREAU_HOUR</th>\n",
       "      <th>AMT_REQ_CREDIT_BUREAU_DAY</th>\n",
       "      <th>AMT_REQ_CREDIT_BUREAU_WEEK</th>\n",
       "      <th>AMT_REQ_CREDIT_BUREAU_MON</th>\n",
       "      <th>AMT_REQ_CREDIT_BUREAU_QRT</th>\n",
       "      <th>AMT_REQ_CREDIT_BUREAU_YEAR</th>\n",
       "    </tr>\n",
       "  </thead>\n",
       "  <tbody>\n",
       "    <tr>\n",
       "      <td>307506</td>\n",
       "      <td>456251</td>\n",
       "      <td>0</td>\n",
       "      <td>Cash loans</td>\n",
       "      <td>M</td>\n",
       "      <td>N</td>\n",
       "      <td>N</td>\n",
       "      <td>0</td>\n",
       "      <td>157500.0</td>\n",
       "      <td>254700.0</td>\n",
       "      <td>27558.0</td>\n",
       "      <td>...</td>\n",
       "      <td>0</td>\n",
       "      <td>0</td>\n",
       "      <td>0</td>\n",
       "      <td>0</td>\n",
       "      <td>NaN</td>\n",
       "      <td>NaN</td>\n",
       "      <td>NaN</td>\n",
       "      <td>NaN</td>\n",
       "      <td>NaN</td>\n",
       "      <td>NaN</td>\n",
       "    </tr>\n",
       "    <tr>\n",
       "      <td>307507</td>\n",
       "      <td>456252</td>\n",
       "      <td>0</td>\n",
       "      <td>Cash loans</td>\n",
       "      <td>F</td>\n",
       "      <td>N</td>\n",
       "      <td>Y</td>\n",
       "      <td>0</td>\n",
       "      <td>72000.0</td>\n",
       "      <td>269550.0</td>\n",
       "      <td>12001.5</td>\n",
       "      <td>...</td>\n",
       "      <td>0</td>\n",
       "      <td>0</td>\n",
       "      <td>0</td>\n",
       "      <td>0</td>\n",
       "      <td>NaN</td>\n",
       "      <td>NaN</td>\n",
       "      <td>NaN</td>\n",
       "      <td>NaN</td>\n",
       "      <td>NaN</td>\n",
       "      <td>NaN</td>\n",
       "    </tr>\n",
       "    <tr>\n",
       "      <td>307508</td>\n",
       "      <td>456253</td>\n",
       "      <td>0</td>\n",
       "      <td>Cash loans</td>\n",
       "      <td>F</td>\n",
       "      <td>N</td>\n",
       "      <td>Y</td>\n",
       "      <td>0</td>\n",
       "      <td>153000.0</td>\n",
       "      <td>677664.0</td>\n",
       "      <td>29979.0</td>\n",
       "      <td>...</td>\n",
       "      <td>0</td>\n",
       "      <td>0</td>\n",
       "      <td>0</td>\n",
       "      <td>0</td>\n",
       "      <td>1.0</td>\n",
       "      <td>0.0</td>\n",
       "      <td>0.0</td>\n",
       "      <td>1.0</td>\n",
       "      <td>0.0</td>\n",
       "      <td>1.0</td>\n",
       "    </tr>\n",
       "    <tr>\n",
       "      <td>307509</td>\n",
       "      <td>456254</td>\n",
       "      <td>1</td>\n",
       "      <td>Cash loans</td>\n",
       "      <td>F</td>\n",
       "      <td>N</td>\n",
       "      <td>Y</td>\n",
       "      <td>0</td>\n",
       "      <td>171000.0</td>\n",
       "      <td>370107.0</td>\n",
       "      <td>20205.0</td>\n",
       "      <td>...</td>\n",
       "      <td>0</td>\n",
       "      <td>0</td>\n",
       "      <td>0</td>\n",
       "      <td>0</td>\n",
       "      <td>0.0</td>\n",
       "      <td>0.0</td>\n",
       "      <td>0.0</td>\n",
       "      <td>0.0</td>\n",
       "      <td>0.0</td>\n",
       "      <td>0.0</td>\n",
       "    </tr>\n",
       "    <tr>\n",
       "      <td>307510</td>\n",
       "      <td>456255</td>\n",
       "      <td>0</td>\n",
       "      <td>Cash loans</td>\n",
       "      <td>F</td>\n",
       "      <td>N</td>\n",
       "      <td>N</td>\n",
       "      <td>0</td>\n",
       "      <td>157500.0</td>\n",
       "      <td>675000.0</td>\n",
       "      <td>49117.5</td>\n",
       "      <td>...</td>\n",
       "      <td>0</td>\n",
       "      <td>0</td>\n",
       "      <td>0</td>\n",
       "      <td>0</td>\n",
       "      <td>0.0</td>\n",
       "      <td>0.0</td>\n",
       "      <td>0.0</td>\n",
       "      <td>2.0</td>\n",
       "      <td>0.0</td>\n",
       "      <td>1.0</td>\n",
       "    </tr>\n",
       "  </tbody>\n",
       "</table>\n",
       "<p>5 rows × 122 columns</p>\n",
       "</div>"
      ],
      "text/plain": [
       "        SK_ID_CURR  TARGET NAME_CONTRACT_TYPE CODE_GENDER FLAG_OWN_CAR  \\\n",
       "307506      456251       0         Cash loans           M            N   \n",
       "307507      456252       0         Cash loans           F            N   \n",
       "307508      456253       0         Cash loans           F            N   \n",
       "307509      456254       1         Cash loans           F            N   \n",
       "307510      456255       0         Cash loans           F            N   \n",
       "\n",
       "       FLAG_OWN_REALTY  CNT_CHILDREN  AMT_INCOME_TOTAL  AMT_CREDIT  \\\n",
       "307506               N             0          157500.0    254700.0   \n",
       "307507               Y             0           72000.0    269550.0   \n",
       "307508               Y             0          153000.0    677664.0   \n",
       "307509               Y             0          171000.0    370107.0   \n",
       "307510               N             0          157500.0    675000.0   \n",
       "\n",
       "        AMT_ANNUITY  ...  FLAG_DOCUMENT_18 FLAG_DOCUMENT_19 FLAG_DOCUMENT_20  \\\n",
       "307506      27558.0  ...                 0                0                0   \n",
       "307507      12001.5  ...                 0                0                0   \n",
       "307508      29979.0  ...                 0                0                0   \n",
       "307509      20205.0  ...                 0                0                0   \n",
       "307510      49117.5  ...                 0                0                0   \n",
       "\n",
       "       FLAG_DOCUMENT_21 AMT_REQ_CREDIT_BUREAU_HOUR AMT_REQ_CREDIT_BUREAU_DAY  \\\n",
       "307506                0                        NaN                       NaN   \n",
       "307507                0                        NaN                       NaN   \n",
       "307508                0                        1.0                       0.0   \n",
       "307509                0                        0.0                       0.0   \n",
       "307510                0                        0.0                       0.0   \n",
       "\n",
       "        AMT_REQ_CREDIT_BUREAU_WEEK  AMT_REQ_CREDIT_BUREAU_MON  \\\n",
       "307506                         NaN                        NaN   \n",
       "307507                         NaN                        NaN   \n",
       "307508                         0.0                        1.0   \n",
       "307509                         0.0                        0.0   \n",
       "307510                         0.0                        2.0   \n",
       "\n",
       "        AMT_REQ_CREDIT_BUREAU_QRT  AMT_REQ_CREDIT_BUREAU_YEAR  \n",
       "307506                        NaN                         NaN  \n",
       "307507                        NaN                         NaN  \n",
       "307508                        0.0                         1.0  \n",
       "307509                        0.0                         0.0  \n",
       "307510                        0.0                         1.0  \n",
       "\n",
       "[5 rows x 122 columns]"
      ]
     },
     "execution_count": 7,
     "metadata": {},
     "output_type": "execute_result"
    }
   ],
   "source": [
    "app_train.tail()"
   ]
  },
  {
   "cell_type": "code",
   "execution_count": 9,
   "metadata": {},
   "outputs": [
    {
     "data": {
      "text/plain": [
       "(307511, 122)"
      ]
     },
     "execution_count": 9,
     "metadata": {},
     "output_type": "execute_result"
    }
   ],
   "source": [
    "app_train.shape"
   ]
  },
  {
   "cell_type": "markdown",
   "metadata": {},
   "source": [
    "The training data has 307511 observations (each one a separate loan) and 122 features (variables) including the TARGET (the label we want to predict)."
   ]
  },
  {
   "cell_type": "code",
   "execution_count": 10,
   "metadata": {},
   "outputs": [
    {
     "data": {
      "text/plain": [
       "array(['SK_ID_CURR', 'TARGET', 'NAME_CONTRACT_TYPE', 'CODE_GENDER',\n",
       "       'FLAG_OWN_CAR', 'FLAG_OWN_REALTY', 'CNT_CHILDREN',\n",
       "       'AMT_INCOME_TOTAL', 'AMT_CREDIT', 'AMT_ANNUITY', 'AMT_GOODS_PRICE',\n",
       "       'NAME_TYPE_SUITE', 'NAME_INCOME_TYPE', 'NAME_EDUCATION_TYPE',\n",
       "       'NAME_FAMILY_STATUS', 'NAME_HOUSING_TYPE',\n",
       "       'REGION_POPULATION_RELATIVE', 'DAYS_BIRTH', 'DAYS_EMPLOYED',\n",
       "       'DAYS_REGISTRATION', 'DAYS_ID_PUBLISH', 'OWN_CAR_AGE',\n",
       "       'FLAG_MOBIL', 'FLAG_EMP_PHONE', 'FLAG_WORK_PHONE',\n",
       "       'FLAG_CONT_MOBILE', 'FLAG_PHONE', 'FLAG_EMAIL', 'OCCUPATION_TYPE',\n",
       "       'CNT_FAM_MEMBERS', 'REGION_RATING_CLIENT',\n",
       "       'REGION_RATING_CLIENT_W_CITY', 'WEEKDAY_APPR_PROCESS_START',\n",
       "       'HOUR_APPR_PROCESS_START', 'REG_REGION_NOT_LIVE_REGION',\n",
       "       'REG_REGION_NOT_WORK_REGION', 'LIVE_REGION_NOT_WORK_REGION',\n",
       "       'REG_CITY_NOT_LIVE_CITY', 'REG_CITY_NOT_WORK_CITY',\n",
       "       'LIVE_CITY_NOT_WORK_CITY', 'ORGANIZATION_TYPE', 'EXT_SOURCE_1',\n",
       "       'EXT_SOURCE_2', 'EXT_SOURCE_3', 'APARTMENTS_AVG',\n",
       "       'BASEMENTAREA_AVG', 'YEARS_BEGINEXPLUATATION_AVG',\n",
       "       'YEARS_BUILD_AVG', 'COMMONAREA_AVG', 'ELEVATORS_AVG',\n",
       "       'ENTRANCES_AVG', 'FLOORSMAX_AVG', 'FLOORSMIN_AVG', 'LANDAREA_AVG',\n",
       "       'LIVINGAPARTMENTS_AVG', 'LIVINGAREA_AVG',\n",
       "       'NONLIVINGAPARTMENTS_AVG', 'NONLIVINGAREA_AVG', 'APARTMENTS_MODE',\n",
       "       'BASEMENTAREA_MODE', 'YEARS_BEGINEXPLUATATION_MODE',\n",
       "       'YEARS_BUILD_MODE', 'COMMONAREA_MODE', 'ELEVATORS_MODE',\n",
       "       'ENTRANCES_MODE', 'FLOORSMAX_MODE', 'FLOORSMIN_MODE',\n",
       "       'LANDAREA_MODE', 'LIVINGAPARTMENTS_MODE', 'LIVINGAREA_MODE',\n",
       "       'NONLIVINGAPARTMENTS_MODE', 'NONLIVINGAREA_MODE',\n",
       "       'APARTMENTS_MEDI', 'BASEMENTAREA_MEDI',\n",
       "       'YEARS_BEGINEXPLUATATION_MEDI', 'YEARS_BUILD_MEDI',\n",
       "       'COMMONAREA_MEDI', 'ELEVATORS_MEDI', 'ENTRANCES_MEDI',\n",
       "       'FLOORSMAX_MEDI', 'FLOORSMIN_MEDI', 'LANDAREA_MEDI',\n",
       "       'LIVINGAPARTMENTS_MEDI', 'LIVINGAREA_MEDI',\n",
       "       'NONLIVINGAPARTMENTS_MEDI', 'NONLIVINGAREA_MEDI',\n",
       "       'FONDKAPREMONT_MODE', 'HOUSETYPE_MODE', 'TOTALAREA_MODE',\n",
       "       'WALLSMATERIAL_MODE', 'EMERGENCYSTATE_MODE',\n",
       "       'OBS_30_CNT_SOCIAL_CIRCLE', 'DEF_30_CNT_SOCIAL_CIRCLE',\n",
       "       'OBS_60_CNT_SOCIAL_CIRCLE', 'DEF_60_CNT_SOCIAL_CIRCLE',\n",
       "       'DAYS_LAST_PHONE_CHANGE', 'FLAG_DOCUMENT_2', 'FLAG_DOCUMENT_3',\n",
       "       'FLAG_DOCUMENT_4', 'FLAG_DOCUMENT_5', 'FLAG_DOCUMENT_6',\n",
       "       'FLAG_DOCUMENT_7', 'FLAG_DOCUMENT_8', 'FLAG_DOCUMENT_9',\n",
       "       'FLAG_DOCUMENT_10', 'FLAG_DOCUMENT_11', 'FLAG_DOCUMENT_12',\n",
       "       'FLAG_DOCUMENT_13', 'FLAG_DOCUMENT_14', 'FLAG_DOCUMENT_15',\n",
       "       'FLAG_DOCUMENT_16', 'FLAG_DOCUMENT_17', 'FLAG_DOCUMENT_18',\n",
       "       'FLAG_DOCUMENT_19', 'FLAG_DOCUMENT_20', 'FLAG_DOCUMENT_21',\n",
       "       'AMT_REQ_CREDIT_BUREAU_HOUR', 'AMT_REQ_CREDIT_BUREAU_DAY',\n",
       "       'AMT_REQ_CREDIT_BUREAU_WEEK', 'AMT_REQ_CREDIT_BUREAU_MON',\n",
       "       'AMT_REQ_CREDIT_BUREAU_QRT', 'AMT_REQ_CREDIT_BUREAU_YEAR'],\n",
       "      dtype=object)"
      ]
     },
     "execution_count": 10,
     "metadata": {},
     "output_type": "execute_result"
    }
   ],
   "source": [
    "app_train.columns.values"
   ]
  },
  {
   "cell_type": "code",
   "execution_count": null,
   "metadata": {},
   "outputs": [],
   "source": []
  },
  {
   "cell_type": "code",
   "execution_count": 11,
   "metadata": {},
   "outputs": [
    {
     "data": {
      "text/plain": [
       "SK_ID_CURR                      int64\n",
       "TARGET                          int64\n",
       "NAME_CONTRACT_TYPE             object\n",
       "CODE_GENDER                    object\n",
       "FLAG_OWN_CAR                   object\n",
       "                               ...   \n",
       "AMT_REQ_CREDIT_BUREAU_DAY     float64\n",
       "AMT_REQ_CREDIT_BUREAU_WEEK    float64\n",
       "AMT_REQ_CREDIT_BUREAU_MON     float64\n",
       "AMT_REQ_CREDIT_BUREAU_QRT     float64\n",
       "AMT_REQ_CREDIT_BUREAU_YEAR    float64\n",
       "Length: 122, dtype: object"
      ]
     },
     "execution_count": 11,
     "metadata": {},
     "output_type": "execute_result"
    }
   ],
   "source": [
    "app_train.dtypes"
   ]
  },
  {
   "cell_type": "code",
   "execution_count": null,
   "metadata": {},
   "outputs": [],
   "source": []
  },
  {
   "cell_type": "markdown",
   "metadata": {},
   "source": [
    "#### Examine the Distribution of the Target Column\n",
    "\n",
    "The target is what we are asked to predict: \n",
    "\n",
    "either a 0 for the loan was repaid on time,\n",
    "\n",
    "or a 1 indicating the client had payment difficulties. \n",
    "\n",
    "We can first examine the number of loans falling into each category."
   ]
  },
  {
   "cell_type": "code",
   "execution_count": 12,
   "metadata": {},
   "outputs": [
    {
     "data": {
      "text/plain": [
       "0    282686\n",
       "1     24825\n",
       "Name: TARGET, dtype: int64"
      ]
     },
     "execution_count": 12,
     "metadata": {},
     "output_type": "execute_result"
    }
   ],
   "source": [
    "app_train['TARGET'].value_counts()"
   ]
  },
  {
   "cell_type": "code",
   "execution_count": 13,
   "metadata": {},
   "outputs": [
    {
     "data": {
      "image/png": "[encoded data removed]",
      "text/plain": [
       "<Figure size 432x288 with 1 Axes>"
      ]
     },
     "metadata": {
      "needs_background": "light"
     },
     "output_type": "display_data"
    }
   ],
   "source": [
    "app_train['TARGET'].astype(int).plot.hist();"
   ]
  },
  {
   "cell_type": "markdown",
   "metadata": {},
   "source": [
    "From this information, we see this is an imbalanced class problem. \n",
    "\n",
    "There are far more loans that were repaid on time than loans that were not repaid. \n",
    "\n",
    "Once we get into more sophisticated machine learning models, \n",
    "we can weight the classes by their representation in the data to reflect this imbalance."
   ]
  },
  {
   "cell_type": "code",
   "execution_count": null,
   "metadata": {},
   "outputs": [],
   "source": []
  },
  {
   "cell_type": "code",
   "execution_count": null,
   "metadata": {},
   "outputs": [],
   "source": []
  },
  {
   "cell_type": "code",
   "execution_count": null,
   "metadata": {},
   "outputs": [],
   "source": []
  },
  {
   "cell_type": "markdown",
   "metadata": {},
   "source": [
    "## Examine Missing Values¶\n",
    "Next we can look at the number and percentage of missing values in each column."
   ]
  },
  {
   "cell_type": "code",
   "execution_count": 14,
   "metadata": {},
   "outputs": [],
   "source": [
    "# Function to calculate missing values by column# Funct \n",
    "def missing_values_table(df):\n",
    "        # Total missing values\n",
    "        mis_val = df.isnull().sum()\n",
    "        \n",
    "        # Percentage of missing values\n",
    "        mis_val_percent = 100 * df.isnull().sum() / len(df)\n",
    "        \n",
    "        # Make a table with the results\n",
    "        mis_val_table = pd.concat([mis_val, mis_val_percent], axis=1)\n",
    "        \n",
    "        # Rename the columns\n",
    "        mis_val_table_ren_columns = mis_val_table.rename(\n",
    "        columns = {0 : 'Missing Values', 1 : '% of Total Values'})\n",
    "        \n",
    "        # Sort the table by percentage of missing descending\n",
    "        mis_val_table_ren_columns = mis_val_table_ren_columns[\n",
    "            mis_val_table_ren_columns.iloc[:,1] != 0].sort_values(\n",
    "        '% of Total Values', ascending=False).round(1)\n",
    "        \n",
    "        # Print some summary information\n",
    "        print (\"Your selected dataframe has \" + str(df.shape[1]) + \" columns.\\n\"      \n",
    "            \"There are \" + str(mis_val_table_ren_columns.shape[0]) +\n",
    "              \" columns that have missing values.\")\n",
    "        \n",
    "        # Return the dataframe with missing information\n",
    "        return mis_val_table_ren_columns"
   ]
  },
  {
   "cell_type": "code",
   "execution_count": 15,
   "metadata": {},
   "outputs": [
    {
     "name": "stdout",
     "output_type": "stream",
     "text": [
      "Your selected dataframe has 122 columns.\n",
      "There are 67 columns that have missing values.\n"
     ]
    },
    {
     "data": {
      "text/html": [
       "<div>\n",
       "<style scoped>\n",
       "    .dataframe tbody tr th:only-of-type {\n",
       "        vertical-align: middle;\n",
       "    }\n",
       "\n",
       "    .dataframe tbody tr th {\n",
       "        vertical-align: top;\n",
       "    }\n",
       "\n",
       "    .dataframe thead th {\n",
       "        text-align: right;\n",
       "    }\n",
       "</style>\n",
       "<table border=\"1\" class=\"dataframe\">\n",
       "  <thead>\n",
       "    <tr style=\"text-align: right;\">\n",
       "      <th></th>\n",
       "      <th>Missing Values</th>\n",
       "      <th>% of Total Values</th>\n",
       "    </tr>\n",
       "  </thead>\n",
       "  <tbody>\n",
       "    <tr>\n",
       "      <td>COMMONAREA_MEDI</td>\n",
       "      <td>214865</td>\n",
       "      <td>69.9</td>\n",
       "    </tr>\n",
       "    <tr>\n",
       "      <td>COMMONAREA_AVG</td>\n",
       "      <td>214865</td>\n",
       "      <td>69.9</td>\n",
       "    </tr>\n",
       "    <tr>\n",
       "      <td>COMMONAREA_MODE</td>\n",
       "      <td>214865</td>\n",
       "      <td>69.9</td>\n",
       "    </tr>\n",
       "    <tr>\n",
       "      <td>NONLIVINGAPARTMENTS_MEDI</td>\n",
       "      <td>213514</td>\n",
       "      <td>69.4</td>\n",
       "    </tr>\n",
       "    <tr>\n",
       "      <td>NONLIVINGAPARTMENTS_MODE</td>\n",
       "      <td>213514</td>\n",
       "      <td>69.4</td>\n",
       "    </tr>\n",
       "    <tr>\n",
       "      <td>NONLIVINGAPARTMENTS_AVG</td>\n",
       "      <td>213514</td>\n",
       "      <td>69.4</td>\n",
       "    </tr>\n",
       "    <tr>\n",
       "      <td>FONDKAPREMONT_MODE</td>\n",
       "      <td>210295</td>\n",
       "      <td>68.4</td>\n",
       "    </tr>\n",
       "    <tr>\n",
       "      <td>LIVINGAPARTMENTS_MODE</td>\n",
       "      <td>210199</td>\n",
       "      <td>68.4</td>\n",
       "    </tr>\n",
       "    <tr>\n",
       "      <td>LIVINGAPARTMENTS_MEDI</td>\n",
       "      <td>210199</td>\n",
       "      <td>68.4</td>\n",
       "    </tr>\n",
       "    <tr>\n",
       "      <td>LIVINGAPARTMENTS_AVG</td>\n",
       "      <td>210199</td>\n",
       "      <td>68.4</td>\n",
       "    </tr>\n",
       "    <tr>\n",
       "      <td>FLOORSMIN_MODE</td>\n",
       "      <td>208642</td>\n",
       "      <td>67.8</td>\n",
       "    </tr>\n",
       "    <tr>\n",
       "      <td>FLOORSMIN_MEDI</td>\n",
       "      <td>208642</td>\n",
       "      <td>67.8</td>\n",
       "    </tr>\n",
       "    <tr>\n",
       "      <td>FLOORSMIN_AVG</td>\n",
       "      <td>208642</td>\n",
       "      <td>67.8</td>\n",
       "    </tr>\n",
       "    <tr>\n",
       "      <td>YEARS_BUILD_MODE</td>\n",
       "      <td>204488</td>\n",
       "      <td>66.5</td>\n",
       "    </tr>\n",
       "    <tr>\n",
       "      <td>YEARS_BUILD_MEDI</td>\n",
       "      <td>204488</td>\n",
       "      <td>66.5</td>\n",
       "    </tr>\n",
       "    <tr>\n",
       "      <td>YEARS_BUILD_AVG</td>\n",
       "      <td>204488</td>\n",
       "      <td>66.5</td>\n",
       "    </tr>\n",
       "    <tr>\n",
       "      <td>OWN_CAR_AGE</td>\n",
       "      <td>202929</td>\n",
       "      <td>66.0</td>\n",
       "    </tr>\n",
       "    <tr>\n",
       "      <td>LANDAREA_AVG</td>\n",
       "      <td>182590</td>\n",
       "      <td>59.4</td>\n",
       "    </tr>\n",
       "    <tr>\n",
       "      <td>LANDAREA_MEDI</td>\n",
       "      <td>182590</td>\n",
       "      <td>59.4</td>\n",
       "    </tr>\n",
       "    <tr>\n",
       "      <td>LANDAREA_MODE</td>\n",
       "      <td>182590</td>\n",
       "      <td>59.4</td>\n",
       "    </tr>\n",
       "  </tbody>\n",
       "</table>\n",
       "</div>"
      ],
      "text/plain": [
       "                          Missing Values  % of Total Values\n",
       "COMMONAREA_MEDI                   214865               69.9\n",
       "COMMONAREA_AVG                    214865               69.9\n",
       "COMMONAREA_MODE                   214865               69.9\n",
       "NONLIVINGAPARTMENTS_MEDI          213514               69.4\n",
       "NONLIVINGAPARTMENTS_MODE          213514               69.4\n",
       "NONLIVINGAPARTMENTS_AVG           213514               69.4\n",
       "FONDKAPREMONT_MODE                210295               68.4\n",
       "LIVINGAPARTMENTS_MODE             210199               68.4\n",
       "LIVINGAPARTMENTS_MEDI             210199               68.4\n",
       "LIVINGAPARTMENTS_AVG              210199               68.4\n",
       "FLOORSMIN_MODE                    208642               67.8\n",
       "FLOORSMIN_MEDI                    208642               67.8\n",
       "FLOORSMIN_AVG                     208642               67.8\n",
       "YEARS_BUILD_MODE                  204488               66.5\n",
       "YEARS_BUILD_MEDI                  204488               66.5\n",
       "YEARS_BUILD_AVG                   204488               66.5\n",
       "OWN_CAR_AGE                       202929               66.0\n",
       "LANDAREA_AVG                      182590               59.4\n",
       "LANDAREA_MEDI                     182590               59.4\n",
       "LANDAREA_MODE                     182590               59.4"
      ]
     },
     "execution_count": 15,
     "metadata": {},
     "output_type": "execute_result"
    }
   ],
   "source": [
    "# Missing values statistics\n",
    "missing_values = missing_values_table(app_train)\n",
    "missing_values.head(20)"
   ]
  },
  {
   "cell_type": "code",
   "execution_count": null,
   "metadata": {},
   "outputs": [],
   "source": []
  },
  {
   "cell_type": "markdown",
   "metadata": {},
   "source": [
    "## Dummy Variables ---see +VIDS"
   ]
  },
  {
   "cell_type": "code",
   "execution_count": null,
   "metadata": {},
   "outputs": [],
   "source": []
  },
  {
   "cell_type": "code",
   "execution_count": null,
   "metadata": {},
   "outputs": [],
   "source": []
  },
  {
   "cell_type": "markdown",
   "metadata": {},
   "source": [
    "## Understanding Metrics - https://www.youtube.com/watch?v=iKLvTiikQao"
   ]
  },
  {
   "cell_type": "code",
   "execution_count": null,
   "metadata": {},
   "outputs": [],
   "source": []
  },
  {
   "cell_type": "code",
   "execution_count": null,
   "metadata": {},
   "outputs": [],
   "source": []
  },
  {
   "cell_type": "markdown",
   "metadata": {},
   "source": [
    "When it comes time to build our machine learning models, \n",
    "\n",
    "we will have to fill in these missing values (known as imputation). \n",
    "\n",
    "In later work, we will use models such as XGBoost that can handle missing values \n",
    "with no need for imputation. \n",
    "\n",
    "Another option would be to drop columns with a high percentage of missing values, \n",
    "\n",
    "although it is impossible to know ahead of time if these columns will be helpful to our model. \n",
    "\n",
    "Therefore, we will keep all of the columns for now."
   ]
  },
  {
   "cell_type": "code",
   "execution_count": null,
   "metadata": {},
   "outputs": [],
   "source": []
  },
  {
   "cell_type": "markdown",
   "metadata": {},
   "source": [
    "### Column Types\n",
    "Let's look at the number of columns of each data type. \n",
    "\n",
    "int64 and float64 are numeric variables (which can be either discrete or continuous). ==> use this in TABLEAU\n",
    "\n",
    "object columns contain strings and are categorical features. ."
   ]
  },
  {
   "cell_type": "code",
   "execution_count": 21,
   "metadata": {},
   "outputs": [
    {
     "data": {
      "text/plain": [
       "float64    65\n",
       "int64      41\n",
       "object     16\n",
       "dtype: int64"
      ]
     },
     "execution_count": 21,
     "metadata": {},
     "output_type": "execute_result"
    }
   ],
   "source": [
    "# Number of each type of column\n",
    "app_train.dtypes.value_counts()"
   ]
  },
  {
   "cell_type": "markdown",
   "metadata": {},
   "source": [
    "Let's now look at the number of unique entries in each of the object (categorical) columns."
   ]
  },
  {
   "cell_type": "code",
   "execution_count": 22,
   "metadata": {},
   "outputs": [
    {
     "data": {
      "text/plain": [
       "NAME_CONTRACT_TYPE             2\n",
       "CODE_GENDER                    3\n",
       "FLAG_OWN_CAR                   2\n",
       "FLAG_OWN_REALTY                2\n",
       "NAME_TYPE_SUITE                7\n",
       "NAME_INCOME_TYPE               8\n",
       "NAME_EDUCATION_TYPE            5\n",
       "NAME_FAMILY_STATUS             6\n",
       "NAME_HOUSING_TYPE              6\n",
       "OCCUPATION_TYPE               18\n",
       "WEEKDAY_APPR_PROCESS_START     7\n",
       "ORGANIZATION_TYPE             58\n",
       "FONDKAPREMONT_MODE             4\n",
       "HOUSETYPE_MODE                 3\n",
       "WALLSMATERIAL_MODE             7\n",
       "EMERGENCYSTATE_MODE            2\n",
       "dtype: int64"
      ]
     },
     "execution_count": 22,
     "metadata": {},
     "output_type": "execute_result"
    }
   ],
   "source": [
    "# Number of unique classes in each object column\n",
    "app_train.select_dtypes('object').apply(pd.Series.nunique, axis = 0)"
   ]
  },
  {
   "cell_type": "markdown",
   "metadata": {},
   "source": [
    "Most of the categorical variables have a relatively small number of unique entries. \n",
    "\n",
    "We will need to find a way to deal with these categorical variables!"
   ]
  },
  {
   "cell_type": "markdown",
   "metadata": {},
   "source": [
    "## Encoding Categorical Variables\n",
    "Before we go any further, we need to deal with \"buggy/problemstic\" categorical variables. \n",
    "\n",
    "A machine learning model unfortunately cannot deal with categorical variables (except for some models such as LightGBM). \n",
    "\n",
    "Therefore, we have to find a way to encode (Represent) these variables as numbers before handing \n",
    "them off to the model. \n",
    "\n",
    "#### There are two main ways to carry out this process:"
   ]
  },
  {
   "cell_type": "markdown",
   "metadata": {},
   "source": [
    "### Label encoding: \n",
    "    assign each unique category in a categorical variable with an integer. No new columns are created. An example is shown below"
   ]
  },
  {
   "cell_type": "markdown",
   "metadata": {},
   "source": [
    "### One-hot encoding: \n",
    "    create a new column for each unique category in a categorical variable. \n",
    "    \n",
    "    Each observation recieves a 1 in the column for its corresponding category and a 0 in all other new columns.\n",
    "    \n",
    "#### TensorFlow + One-hot encoding ==> https://www.youtube.com/watch?v=Gql-LxoGvXA\n",
    "\n",
    "#### Dummy Variables  + One-hot encoding ==> https://www.youtube.com/watch?v=9yl6-HEY7_s\n",
    "    "
   ]
  },
  {
   "cell_type": "markdown",
   "metadata": {},
   "source": [
    "### ????\n",
    "No more search, here https://www.kaggle.com/willkoehrsen/start-here-a-gentle-introduction\n",
    "\n",
    "Recheck if these are the best links\n",
    "    https://www.youtube.com/watch?v=9yl6-HEY7_s"
   ]
  },
  {
   "cell_type": "code",
   "execution_count": null,
   "metadata": {},
   "outputs": [],
   "source": []
  },
  {
   "cell_type": "markdown",
   "metadata": {},
   "source": [
    "## Dimensionality_reduction - https://en.wikipedia.org/wiki/Dimensionality_reduction\n",
    "\n",
    "After we decide on the ENCODING.... \n",
    "\n",
    "\"Label Encoding VS One-hot encoding\"\n",
    "\n",
    "\n",
    "the data will be much better suited for MACHINE LEARNING...???Research more??\n",
    "\n",
    "but, altough it seems \"better\" it may also nees a Dimensionality_reduction\n",
    "\n",
    "https://en.wikipedia.org/wiki/Dimensionality_reduction"
   ]
  },
  {
   "cell_type": "markdown",
   "metadata": {},
   "source": [
    "### Aligning Training and Testing Data\n",
    "There need to be the same features (columns) in both the training and testing data. One-hot encoding has created more columns in the training data because there were some categorical variables with categories not represented in the testing data. To remove the columns in the training data that are not in the testing data, we need to align the dataframes. First we extract the target column from the training data (because this is not in the testing data but we need to keep this information). When we do the align, we must make sure to set axis = 1 to align the dataframes based on the columns and not on the rows!"
   ]
  },
  {
   "cell_type": "markdown",
   "metadata": {},
   "source": [
    "## Imputation\n",
    "what exactly is \"Imputation\""
   ]
  },
  {
   "cell_type": "markdown",
   "metadata": {},
   "source": [
    "### ???\n",
    "why allign: Training data + TEsting Data"
   ]
  },
  {
   "cell_type": "code",
   "execution_count": null,
   "metadata": {},
   "outputs": [],
   "source": [
    "????"
   ]
  },
  {
   "cell_type": "markdown",
   "metadata": {},
   "source": [
    "The training and testing datasets now have the same features which is required for machine learning. The number of features has grown significantly due to one-hot encoding. At some point we probably will want to try dimensionality reduction (removing features that are not relevant) to reduce the size of the datasets."
   ]
  },
  {
   "cell_type": "code",
   "execution_count": null,
   "metadata": {},
   "outputs": [],
   "source": [
    "?????"
   ]
  },
  {
   "cell_type": "markdown",
   "metadata": {},
   "source": [
    "### Back to Exploratory Data Analysis\n",
    "#### Anomalies\n",
    "One problem we always want to be on the lookout for when doing EDA is anomalies within the data. \n",
    "\n",
    "\n",
    "These may be due to mis-typed numbers, errors in measuring equipment, or they could be valid but extreme measurements. \n",
    "\n",
    "\n",
    "One way to support anomalies quantitatively is by looking at the statistics of a column using the describe method. \n",
    "\n",
    "The numbers in the DAYS_BIRTH column are negative because they are recorded relative to the current loan application. \n",
    "\n",
    "To see these stats in years, we can mutliple by -1 and divide by the number of days in a year:"
   ]
  },
  {
   "cell_type": "code",
   "execution_count": 16,
   "metadata": {},
   "outputs": [
    {
     "data": {
      "text/plain": [
       "count    307511.000000\n",
       "mean         43.936973\n",
       "std          11.956133\n",
       "min          20.517808\n",
       "25%          34.008219\n",
       "50%          43.150685\n",
       "75%          53.923288\n",
       "max          69.120548\n",
       "Name: DAYS_BIRTH, dtype: float64"
      ]
     },
     "execution_count": 16,
     "metadata": {},
     "output_type": "execute_result"
    }
   ],
   "source": [
    "(app_train['DAYS_BIRTH'] / -365).describe()"
   ]
  },
  {
   "cell_type": "markdown",
   "metadata": {},
   "source": [
    "##### OBS: \n",
    "    Those ages look reasonable. \n",
    "    There are no outliers for the age on either the high or low end. \n",
    "    How about the days of employment?"
   ]
  },
  {
   "cell_type": "code",
   "execution_count": 18,
   "metadata": {},
   "outputs": [
    {
     "data": {
      "text/plain": [
       "count    307511.000000\n",
       "mean      63815.045904\n",
       "std      141275.766519\n",
       "min      -17912.000000\n",
       "25%       -2760.000000\n",
       "50%       -1213.000000\n",
       "75%        -289.000000\n",
       "max      365243.000000\n",
       "Name: DAYS_EMPLOYED, dtype: float64"
      ]
     },
     "execution_count": 18,
     "metadata": {},
     "output_type": "execute_result"
    }
   ],
   "source": [
    "app_train['DAYS_EMPLOYED'].describe()"
   ]
  },
  {
   "cell_type": "markdown",
   "metadata": {},
   "source": [
    "##### OBS: \n",
    "    That doesn't look right! The maximum value (besides being positive) is about 1000 years!\n",
    "    ??? Let's set-uo a WORKFLOW for more...???"
   ]
  },
  {
   "cell_type": "code",
   "execution_count": 20,
   "metadata": {},
   "outputs": [
    {
     "data": {
      "image/png": "[encoded data removed]",
      "text/plain": [
       "<Figure size 432x288 with 1 Axes>"
      ]
     },
     "metadata": {
      "needs_background": "light"
     },
     "output_type": "display_data"
    }
   ],
   "source": [
    "app_train['DAYS_EMPLOYED'].plot.hist(title = 'Days Employment Histogram');\n",
    "plt.xlabel('Days Employment');"
   ]
  },
  {
   "cell_type": "code",
   "execution_count": 21,
   "metadata": {},
   "outputs": [],
   "source": [
    "## Just out of curiousity, let's subset the anomalous clients and see if they tend to have higher or low rates of default than the rest of the clients."
   ]
  },
  {
   "cell_type": "code",
   "execution_count": 22,
   "metadata": {},
   "outputs": [
    {
     "name": "stdout",
     "output_type": "stream",
     "text": [
      "The non-anomalies default on 8.66% of loans\n",
      "The anomalies default on 5.40% of loans\n",
      "There are 55374 anomalous days of employment\n"
     ]
    }
   ],
   "source": [
    "anom = app_train[app_train['DAYS_EMPLOYED'] == 365243]\n",
    "non_anom = app_train[app_train['DAYS_EMPLOYED'] != 365243]\n",
    "print('The non-anomalies default on %0.2f%% of loans' % (100 * non_anom['TARGET'].mean()))\n",
    "print('The anomalies default on %0.2f%% of loans' % (100 * anom['TARGET'].mean()))\n",
    "print('There are %d anomalous days of employment' % len(anom))"
   ]
  },
  {
   "cell_type": "markdown",
   "metadata": {},
   "source": [
    "Well that is extremely interesting! It turns out that the anomalies have a lower rate of default.\n",
    "\n",
    "Handling the anomalies depends on the exact situation, with no set rules. \n",
    "\n",
    "One of the safest approaches is just to set the anomalies to a missing value and then have them filled in (using Imputation) before machine learning. \n",
    "\n",
    "In this case, since all the anomalies have the exact same value, we want to fill them in with the same value in case all of these loans share something in common. \n",
    "\n",
    "The anomalous values seem to have some importance, so we want to tell the machine learning model if we did in fact fill in these values. \n",
    "\n",
    "As a solution, we will fill in the anomalous values with not a number (np.nan) \n",
    "and then create a new boolean column indicating whether or not the value was anomalous."
   ]
  },
  {
   "cell_type": "code",
   "execution_count": 23,
   "metadata": {},
   "outputs": [
    {
     "data": {
      "image/png": "[encoded data removed]",
      "text/plain": [
       "<Figure size 432x288 with 1 Axes>"
      ]
     },
     "metadata": {
      "needs_background": "light"
     },
     "output_type": "display_data"
    }
   ],
   "source": [
    "# Create an anomalous flag column\n",
    "app_train['DAYS_EMPLOYED_ANOM'] = app_train[\"DAYS_EMPLOYED\"] == 365243\n",
    "\n",
    "# Replace the anomalous values with nan\n",
    "app_train['DAYS_EMPLOYED'].replace({365243: np.nan}, inplace = True)\n",
    "\n",
    "app_train['DAYS_EMPLOYED'].plot.hist(title = 'Days Employment Histogram');\n",
    "plt.xlabel('Days Employment');"
   ]
  },
  {
   "cell_type": "markdown",
   "metadata": {},
   "source": [
    "The distribution looks to be much more in line with what we would expect, \n",
    "\n",
    "and we also have created a new column to tell the model that these values were originally anomalous \n",
    "\n",
    "(becuase we will have to fill in the nans with some value, probably the median of the column). \n",
    "\n",
    "The other columns with DAYS in the dataframe look to be about what we expect with no obvious outliers.\n",
    "\n",
    "As an extremely important note, anything we do to the training data we also have to do to the testing data. \n",
    "\n",
    "Let's make sure to create the new column and fill in the existing column with np.nan in the testing data."
   ]
  },
  {
   "cell_type": "code",
   "execution_count": 25,
   "metadata": {},
   "outputs": [
    {
     "name": "stdout",
     "output_type": "stream",
     "text": [
      "There are 9274 anomalies in the test data out of 48744 entries\n"
     ]
    }
   ],
   "source": [
    "app_test['DAYS_EMPLOYED_ANOM'] = app_test[\"DAYS_EMPLOYED\"] == 365243\n",
    "app_test[\"DAYS_EMPLOYED\"].replace({365243: np.nan}, inplace = True)\n",
    "\n",
    "print('There are %d anomalies in the test data out of %d entries' % (app_test[\"DAYS_EMPLOYED_ANOM\"].sum(), len(app_test)))"
   ]
  },
  {
   "cell_type": "code",
   "execution_count": null,
   "metadata": {},
   "outputs": [],
   "source": []
  },
  {
   "cell_type": "markdown",
   "metadata": {},
   "source": [
    "## Correlations\n",
    "Now that we have dealt with the categorical variables and the outliers, let's continue with the EDA. \n",
    "\n",
    "One way to try and understand the data is by looking for correlations between the features and the target. \n",
    "\n",
    "We can calculate the Pearson correlation coefficient between every variable and the target using the .corr dataframe method.\n",
    "==>\n",
    "\n",
    "The correlation coefficient is not the greatest method to represent \"relevance\" of a feature, \n",
    "\n",
    "but it does give us an idea of possible relationships within the data. \n",
    "\n",
    "Some general interpretations of the absolute value of the correlation coefficent are:\n",
    "\n",
    ".00-.19 “very weak”\n",
    "\n",
    ".20-.39 “weak”\n",
    "\n",
    ".40-.59 “moderate”\n",
    "\n",
    ".60-.79 “strong”\n",
    "\n",
    ".80-1.0 “very strong”"
   ]
  },
  {
   "cell_type": "code",
   "execution_count": null,
   "metadata": {},
   "outputs": [],
   "source": []
  },
  {
   "cell_type": "markdown",
   "metadata": {},
   "source": [
    "## Correlation and P value\n",
    "What they are: https://dataschool.com/fundamentals-of-analysis/correlation-and-p-value/\n",
    "\n",
    "Alphas, P-Values, and Confidence Intervals, Oh My! https://blog.minitab.com/blog/alphas-p-values-confidence-intervals-oh-my\n",
    "\n"
   ]
  },
  {
   "cell_type": "code",
   "execution_count": null,
   "metadata": {},
   "outputs": [],
   "source": []
  },
  {
   "cell_type": "markdown",
   "metadata": {},
   "source": [
    "### Correlation & Regression\n",
    "https://www.youtube.com/watch?v=xTpHD5WLuoA&t=6s\n",
    "\n",
    "https://www.datasciencecentral.com/profiles/blogs/difference-between-correlation-and-regression-in-statistics\n"
   ]
  },
  {
   "cell_type": "code",
   "execution_count": null,
   "metadata": {},
   "outputs": [],
   "source": []
  },
  {
   "cell_type": "code",
   "execution_count": null,
   "metadata": {},
   "outputs": [],
   "source": []
  },
  {
   "cell_type": "code",
   "execution_count": 27,
   "metadata": {},
   "outputs": [
    {
     "name": "stdout",
     "output_type": "stream",
     "text": [
      "Most Positive Correlations:\n",
      " DEF_30_CNT_SOCIAL_CIRCLE       0.032248\n",
      "LIVE_CITY_NOT_WORK_CITY        0.032518\n",
      "OWN_CAR_AGE                    0.037612\n",
      "DAYS_REGISTRATION              0.041975\n",
      "FLAG_DOCUMENT_3                0.044346\n",
      "REG_CITY_NOT_LIVE_CITY         0.044395\n",
      "FLAG_EMP_PHONE                 0.045982\n",
      "REG_CITY_NOT_WORK_CITY         0.050994\n",
      "DAYS_ID_PUBLISH                0.051457\n",
      "DAYS_LAST_PHONE_CHANGE         0.055218\n",
      "REGION_RATING_CLIENT           0.058899\n",
      "REGION_RATING_CLIENT_W_CITY    0.060893\n",
      "DAYS_EMPLOYED                  0.074958\n",
      "DAYS_BIRTH                     0.078239\n",
      "TARGET                         1.000000\n",
      "Name: TARGET, dtype: float64\n",
      "\n",
      "Most Negative Correlations:\n",
      " EXT_SOURCE_3                 -0.178919\n",
      "EXT_SOURCE_2                 -0.160472\n",
      "EXT_SOURCE_1                 -0.155317\n",
      "DAYS_EMPLOYED_ANOM           -0.045987\n",
      "FLOORSMAX_AVG                -0.044003\n",
      "FLOORSMAX_MEDI               -0.043768\n",
      "FLOORSMAX_MODE               -0.043226\n",
      "AMT_GOODS_PRICE              -0.039645\n",
      "REGION_POPULATION_RELATIVE   -0.037227\n",
      "ELEVATORS_AVG                -0.034199\n",
      "ELEVATORS_MEDI               -0.033863\n",
      "FLOORSMIN_AVG                -0.033614\n",
      "FLOORSMIN_MEDI               -0.033394\n",
      "LIVINGAREA_AVG               -0.032997\n",
      "LIVINGAREA_MEDI              -0.032739\n",
      "Name: TARGET, dtype: float64\n"
     ]
    }
   ],
   "source": [
    " # Find correlations with the target and sort\n",
    "correlations = app_train.corr()['TARGET'].sort_values()\n",
    "\n",
    "\n",
    "# Display correlations\n",
    "print('Most Positive Correlations:\\n', correlations.tail(15))\n",
    "print('\\nMost Negative Correlations:\\n', correlations.head(15))"
   ]
  },
  {
   "cell_type": "markdown",
   "metadata": {},
   "source": [
    "## VERY IMPORTANT iNSiGHTs AboVe :-) StarTiNG PoiNTs\n",
    "### Find correlations with the target and sort\n",
    "correlations = app_train.corr()['TARGET'].sort_values()\n",
    "### .sort_values()\n",
    "we sorted thru Multipls Varaibles at once..."
   ]
  },
  {
   "cell_type": "markdown",
   "metadata": {},
   "source": [
    "Let's take a look at some of more significant correlations: \n",
    "\n",
    "the DAYS_BIRTH is the most positive correlation. \n",
    "\n",
    "(except for TARGET because the correlation of a variable with itself is always 1!) \n",
    "\n",
    "Looking at the documentation, \n",
    "\n",
    "DAYS_BIRTH is the age in days of the client at the time of the loan in negative days (for whatever reason!). \n",
    "\n",
    "The correlation is positive, but the value of this feature is actually negative, \n",
    "\n",
    "meaning that as the client gets older, they are less likely to default on their loan (ie the target == 0). \n",
    "\n",
    "That's a little confusing, so we will take the absolute value of the feature and then the correlation will be negative."
   ]
  },
  {
   "cell_type": "markdown",
   "metadata": {},
   "source": [
    "## ???"
   ]
  },
  {
   "cell_type": "code",
   "execution_count": null,
   "metadata": {},
   "outputs": [],
   "source": []
  },
  {
   "cell_type": "markdown",
   "metadata": {},
   "source": [
    "### Effect of Age on Repayment"
   ]
  },
  {
   "cell_type": "code",
   "execution_count": 29,
   "metadata": {},
   "outputs": [
    {
     "data": {
      "text/plain": [
       "-0.07823930830982712"
      ]
     },
     "execution_count": 29,
     "metadata": {},
     "output_type": "execute_result"
    }
   ],
   "source": [
    "# Find the correlation of the positive days since birth and target\n",
    "app_train['DAYS_BIRTH'] = abs(app_train['DAYS_BIRTH'])\n",
    "app_train['DAYS_BIRTH'].corr(app_train['TARGET'])"
   ]
  },
  {
   "cell_type": "markdown",
   "metadata": {},
   "source": [
    "As the client gets older, \n",
    "there is a negative linear relationship with the target \n",
    "meaning that as clients get older, \n",
    "they tend to repay their loans on time more often.\n",
    "\n",
    "Let's start looking at this variable. \n",
    "\n",
    "First, we can make a histogram of the age. \n",
    "\n",
    "We will put the x axis in years to make the plot a little more understandable."
   ]
  },
  {
   "cell_type": "code",
   "execution_count": 31,
   "metadata": {},
   "outputs": [
    {
     "data": {
      "image/png": "[encoded data removed]",
      "text/plain": [
       "<Figure size 432x288 with 1 Axes>"
      ]
     },
     "metadata": {},
     "output_type": "display_data"
    }
   ],
   "source": [
    "# Set the style of plots\n",
    "plt.style.use('fivethirtyeight')\n",
    "\n",
    "# Plot the distribution of ages in years\n",
    "plt.hist(app_train['DAYS_BIRTH'] / 365, edgecolor = 'k', bins = 25)\n",
    "plt.title('Age of Client'); plt.xlabel('Age (years)'); plt.ylabel('Count');"
   ]
  },
  {
   "cell_type": "markdown",
   "metadata": {},
   "source": [
    "By itself, the distribution of age does not tell us much other than that there are no outliers as all the ages are reasonable. \n",
    "\n",
    "To visualize the effect of the age on the target, \n",
    "\n",
    "we will next make a kernel density estimation plot (KDE) \n",
    "colored by the value of the target. \n",
    "\n",
    "A kernel density estimate plot shows the distribution of a single variable and can be thought of as a smoothed histogram\n",
    "\n",
    "(it is created by computing a kernel, usually a Gaussian, at each data point and \n",
    "\n",
    "then averaging all the individual kernels to develop a single smooth curve). \n",
    "\n",
    "We will use the seaborn kdeplot for this graph."
   ]
  },
  {
   "cell_type": "markdown",
   "metadata": {},
   "source": [
    "## ??? change the SEABORN Graph... and google for: \"KDE vs \" &/or \"kernel density estimate plot vs/&/oR\" \n",
    "    "
   ]
  },
  {
   "cell_type": "code",
   "execution_count": 32,
   "metadata": {},
   "outputs": [
    {
     "data": {
      "image/png": "[encoded data removed]",
      "text/plain": [
       "<Figure size 720x576 with 1 Axes>"
      ]
     },
     "metadata": {},
     "output_type": "display_data"
    }
   ],
   "source": [
    "plt.figure(figsize = (10, 8))\n",
    "\n",
    "# KDE plot of loans that were repaid on time\n",
    "sns.kdeplot(app_train.loc[app_train['TARGET'] == 0, 'DAYS_BIRTH'] / 365, label = 'target == 0')\n",
    "\n",
    "# KDE plot of loans which were not repaid on time\n",
    "sns.kdeplot(app_train.loc[app_train['TARGET'] == 1, 'DAYS_BIRTH'] / 365, label = 'target == 1')\n",
    "\n",
    "# Labeling of plot\n",
    "plt.xlabel('Age (years)'); plt.ylabel('Density'); plt.title('Distribution of Ages');"
   ]
  },
  {
   "cell_type": "markdown",
   "metadata": {},
   "source": [
    "The target == 1 curve skews towards the younger end of the range. \n",
    "\n",
    "Although this is not a significant correlation (-0.07 correlation coefficient), \n",
    "\n",
    "this variable is likely going to be useful in a machine learning model \n",
    "\n",
    "because it does affect the target. \n",
    "\n",
    "## ==>\n",
    "Let's look at this relationship in another way: \n",
    "\n",
    "average failure to repay loans by age bracket.\n",
    "\n",
    "To make this graph, first we cut the age category into bins of 5 years each. \n",
    "\n",
    "Then, for each bin, we calculate the average value of the target, \n",
    "\n",
    "which tells us the ratio of loans that were not repaid in each age category."
   ]
  },
  {
   "cell_type": "code",
   "execution_count": 33,
   "metadata": {},
   "outputs": [
    {
     "name": "stderr",
     "output_type": "stream",
     "text": [
      "/Users/mauroaz/miniconda3/lib/python3.7/site-packages/ipykernel_launcher.py:3: SettingWithCopyWarning: \n",
      "A value is trying to be set on a copy of a slice from a DataFrame.\n",
      "Try using .loc[row_indexer,col_indexer] = value instead\n",
      "\n",
      "See the caveats in the documentation: http://pandas.pydata.org/pandas-docs/stable/user_guide/indexing.html#returning-a-view-versus-a-copy\n",
      "  This is separate from the ipykernel package so we can avoid doing imports until\n",
      "/Users/mauroaz/miniconda3/lib/python3.7/site-packages/ipykernel_launcher.py:6: SettingWithCopyWarning: \n",
      "A value is trying to be set on a copy of a slice from a DataFrame.\n",
      "Try using .loc[row_indexer,col_indexer] = value instead\n",
      "\n",
      "See the caveats in the documentation: http://pandas.pydata.org/pandas-docs/stable/user_guide/indexing.html#returning-a-view-versus-a-copy\n",
      "  \n"
     ]
    },
    {
     "data": {
      "text/html": [
       "<div>\n",
       "<style scoped>\n",
       "    .dataframe tbody tr th:only-of-type {\n",
       "        vertical-align: middle;\n",
       "    }\n",
       "\n",
       "    .dataframe tbody tr th {\n",
       "        vertical-align: top;\n",
       "    }\n",
       "\n",
       "    .dataframe thead th {\n",
       "        text-align: right;\n",
       "    }\n",
       "</style>\n",
       "<table border=\"1\" class=\"dataframe\">\n",
       "  <thead>\n",
       "    <tr style=\"text-align: right;\">\n",
       "      <th></th>\n",
       "      <th>TARGET</th>\n",
       "      <th>DAYS_BIRTH</th>\n",
       "      <th>YEARS_BIRTH</th>\n",
       "      <th>YEARS_BINNED</th>\n",
       "    </tr>\n",
       "  </thead>\n",
       "  <tbody>\n",
       "    <tr>\n",
       "      <td>0</td>\n",
       "      <td>1</td>\n",
       "      <td>9461</td>\n",
       "      <td>25.920548</td>\n",
       "      <td>(25.0, 30.0]</td>\n",
       "    </tr>\n",
       "    <tr>\n",
       "      <td>1</td>\n",
       "      <td>0</td>\n",
       "      <td>16765</td>\n",
       "      <td>45.931507</td>\n",
       "      <td>(45.0, 50.0]</td>\n",
       "    </tr>\n",
       "    <tr>\n",
       "      <td>2</td>\n",
       "      <td>0</td>\n",
       "      <td>19046</td>\n",
       "      <td>52.180822</td>\n",
       "      <td>(50.0, 55.0]</td>\n",
       "    </tr>\n",
       "    <tr>\n",
       "      <td>3</td>\n",
       "      <td>0</td>\n",
       "      <td>19005</td>\n",
       "      <td>52.068493</td>\n",
       "      <td>(50.0, 55.0]</td>\n",
       "    </tr>\n",
       "    <tr>\n",
       "      <td>4</td>\n",
       "      <td>0</td>\n",
       "      <td>19932</td>\n",
       "      <td>54.608219</td>\n",
       "      <td>(50.0, 55.0]</td>\n",
       "    </tr>\n",
       "    <tr>\n",
       "      <td>5</td>\n",
       "      <td>0</td>\n",
       "      <td>16941</td>\n",
       "      <td>46.413699</td>\n",
       "      <td>(45.0, 50.0]</td>\n",
       "    </tr>\n",
       "    <tr>\n",
       "      <td>6</td>\n",
       "      <td>0</td>\n",
       "      <td>13778</td>\n",
       "      <td>37.747945</td>\n",
       "      <td>(35.0, 40.0]</td>\n",
       "    </tr>\n",
       "    <tr>\n",
       "      <td>7</td>\n",
       "      <td>0</td>\n",
       "      <td>18850</td>\n",
       "      <td>51.643836</td>\n",
       "      <td>(50.0, 55.0]</td>\n",
       "    </tr>\n",
       "    <tr>\n",
       "      <td>8</td>\n",
       "      <td>0</td>\n",
       "      <td>20099</td>\n",
       "      <td>55.065753</td>\n",
       "      <td>(55.0, 60.0]</td>\n",
       "    </tr>\n",
       "    <tr>\n",
       "      <td>9</td>\n",
       "      <td>0</td>\n",
       "      <td>14469</td>\n",
       "      <td>39.641096</td>\n",
       "      <td>(35.0, 40.0]</td>\n",
       "    </tr>\n",
       "  </tbody>\n",
       "</table>\n",
       "</div>"
      ],
      "text/plain": [
       "   TARGET  DAYS_BIRTH  YEARS_BIRTH  YEARS_BINNED\n",
       "0       1        9461    25.920548  (25.0, 30.0]\n",
       "1       0       16765    45.931507  (45.0, 50.0]\n",
       "2       0       19046    52.180822  (50.0, 55.0]\n",
       "3       0       19005    52.068493  (50.0, 55.0]\n",
       "4       0       19932    54.608219  (50.0, 55.0]\n",
       "5       0       16941    46.413699  (45.0, 50.0]\n",
       "6       0       13778    37.747945  (35.0, 40.0]\n",
       "7       0       18850    51.643836  (50.0, 55.0]\n",
       "8       0       20099    55.065753  (55.0, 60.0]\n",
       "9       0       14469    39.641096  (35.0, 40.0]"
      ]
     },
     "execution_count": 33,
     "metadata": {},
     "output_type": "execute_result"
    }
   ],
   "source": [
    "# Age information into a separate dataframe\n",
    "age_data = app_train[['TARGET', 'DAYS_BIRTH']]\n",
    "age_data['YEARS_BIRTH'] = age_data['DAYS_BIRTH'] / 365\n",
    "\n",
    "# Bin the age data\n",
    "age_data['YEARS_BINNED'] = pd.cut(age_data['YEARS_BIRTH'], bins = np.linspace(20, 70, num = 11))\n",
    "age_data.head(10)"
   ]
  },
  {
   "cell_type": "markdown",
   "metadata": {},
   "source": [
    "## Avoid the \"PINK Warnings\"\n",
    "Probably could avoid the \"PINK Warnings\"\n",
    "if I IMPORTED this PACKAGE with this code:\n",
    "#### =============================================\n",
    "    # Suppress warnings \n",
    "import warnings\n",
    "warnings.filterwarnings('ignore')\n",
    "#### =============================================\n",
    "But, NOW i want to SEE the WARNING to LEARN..."
   ]
  },
  {
   "cell_type": "code",
   "execution_count": 34,
   "metadata": {},
   "outputs": [
    {
     "data": {
      "text/html": [
       "<div>\n",
       "<style scoped>\n",
       "    .dataframe tbody tr th:only-of-type {\n",
       "        vertical-align: middle;\n",
       "    }\n",
       "\n",
       "    .dataframe tbody tr th {\n",
       "        vertical-align: top;\n",
       "    }\n",
       "\n",
       "    .dataframe thead th {\n",
       "        text-align: right;\n",
       "    }\n",
       "</style>\n",
       "<table border=\"1\" class=\"dataframe\">\n",
       "  <thead>\n",
       "    <tr style=\"text-align: right;\">\n",
       "      <th></th>\n",
       "      <th>TARGET</th>\n",
       "      <th>DAYS_BIRTH</th>\n",
       "      <th>YEARS_BIRTH</th>\n",
       "    </tr>\n",
       "    <tr>\n",
       "      <th>YEARS_BINNED</th>\n",
       "      <th></th>\n",
       "      <th></th>\n",
       "      <th></th>\n",
       "    </tr>\n",
       "  </thead>\n",
       "  <tbody>\n",
       "    <tr>\n",
       "      <td>(20.0, 25.0]</td>\n",
       "      <td>0.123036</td>\n",
       "      <td>8532.795625</td>\n",
       "      <td>23.377522</td>\n",
       "    </tr>\n",
       "    <tr>\n",
       "      <td>(25.0, 30.0]</td>\n",
       "      <td>0.111436</td>\n",
       "      <td>10155.219250</td>\n",
       "      <td>27.822518</td>\n",
       "    </tr>\n",
       "    <tr>\n",
       "      <td>(30.0, 35.0]</td>\n",
       "      <td>0.102814</td>\n",
       "      <td>11854.848377</td>\n",
       "      <td>32.479037</td>\n",
       "    </tr>\n",
       "    <tr>\n",
       "      <td>(35.0, 40.0]</td>\n",
       "      <td>0.089414</td>\n",
       "      <td>13707.908253</td>\n",
       "      <td>37.555913</td>\n",
       "    </tr>\n",
       "    <tr>\n",
       "      <td>(40.0, 45.0]</td>\n",
       "      <td>0.078491</td>\n",
       "      <td>15497.661233</td>\n",
       "      <td>42.459346</td>\n",
       "    </tr>\n",
       "    <tr>\n",
       "      <td>(45.0, 50.0]</td>\n",
       "      <td>0.074171</td>\n",
       "      <td>17323.900441</td>\n",
       "      <td>47.462741</td>\n",
       "    </tr>\n",
       "    <tr>\n",
       "      <td>(50.0, 55.0]</td>\n",
       "      <td>0.066968</td>\n",
       "      <td>19196.494791</td>\n",
       "      <td>52.593136</td>\n",
       "    </tr>\n",
       "    <tr>\n",
       "      <td>(55.0, 60.0]</td>\n",
       "      <td>0.055314</td>\n",
       "      <td>20984.262742</td>\n",
       "      <td>57.491131</td>\n",
       "    </tr>\n",
       "    <tr>\n",
       "      <td>(60.0, 65.0]</td>\n",
       "      <td>0.052737</td>\n",
       "      <td>22780.547460</td>\n",
       "      <td>62.412459</td>\n",
       "    </tr>\n",
       "    <tr>\n",
       "      <td>(65.0, 70.0]</td>\n",
       "      <td>0.037270</td>\n",
       "      <td>24292.614340</td>\n",
       "      <td>66.555108</td>\n",
       "    </tr>\n",
       "  </tbody>\n",
       "</table>\n",
       "</div>"
      ],
      "text/plain": [
       "                TARGET    DAYS_BIRTH  YEARS_BIRTH\n",
       "YEARS_BINNED                                     \n",
       "(20.0, 25.0]  0.123036   8532.795625    23.377522\n",
       "(25.0, 30.0]  0.111436  10155.219250    27.822518\n",
       "(30.0, 35.0]  0.102814  11854.848377    32.479037\n",
       "(35.0, 40.0]  0.089414  13707.908253    37.555913\n",
       "(40.0, 45.0]  0.078491  15497.661233    42.459346\n",
       "(45.0, 50.0]  0.074171  17323.900441    47.462741\n",
       "(50.0, 55.0]  0.066968  19196.494791    52.593136\n",
       "(55.0, 60.0]  0.055314  20984.262742    57.491131\n",
       "(60.0, 65.0]  0.052737  22780.547460    62.412459\n",
       "(65.0, 70.0]  0.037270  24292.614340    66.555108"
      ]
     },
     "execution_count": 34,
     "metadata": {},
     "output_type": "execute_result"
    }
   ],
   "source": [
    "# Group by the bin and calculate averages\n",
    "age_groups  = age_data.groupby('YEARS_BINNED').mean()\n",
    "age_groups"
   ]
  },
  {
   "cell_type": "code",
   "execution_count": 35,
   "metadata": {},
   "outputs": [
    {
     "data": {
      "image/png": "[encoded data removed]",
      "text/plain": [
       "<Figure size 576x576 with 1 Axes>"
      ]
     },
     "metadata": {},
     "output_type": "display_data"
    }
   ],
   "source": [
    "plt.figure(figsize = (8, 8))\n",
    "\n",
    "# Graph the age bins and the average of the target as a bar plot\n",
    "plt.bar(age_groups.index.astype(str), 100 * age_groups['TARGET'])\n",
    "\n",
    "# Plot labeling\n",
    "plt.xticks(rotation = 75); plt.xlabel('Age Group (years)'); plt.ylabel('Failure to Repay (%)')\n",
    "plt.title('Failure to Repay by Age Group');"
   ]
  },
  {
   "cell_type": "markdown",
   "metadata": {},
   "source": [
    "### iNSights\n",
    "There is a clear trend: \n",
    "younger applicants are more likely to not repay the loan! \n",
    "\n",
    "The rate of failure to repay is above 10% for the youngest three age groups \n",
    "\n",
    "and below 5% for the oldest age group.\n",
    "\n",
    "##### ====>\n",
    "This is information that could be directly used by the bank: \n",
    "\n",
    "because younger clients are less likely to repay the loan, \n",
    "\n",
    "maybe they should be provided with more guidance or financial planning tips. \n",
    "\n",
    "This does not mean the bank should discriminate against younger clients, \n",
    "\n",
    "but it would be smart to take precautionary measures to help younger clients pay on time.\n",
    "\n",
    "\n",
    "#### ????"
   ]
  },
  {
   "cell_type": "code",
   "execution_count": null,
   "metadata": {},
   "outputs": [],
   "source": []
  },
  {
   "cell_type": "markdown",
   "metadata": {},
   "source": [
    "## CUT oTHER BOOK"
   ]
  },
  {
   "cell_type": "code",
   "execution_count": null,
   "metadata": {},
   "outputs": [],
   "source": []
  },
  {
   "cell_type": "code",
   "execution_count": null,
   "metadata": {},
   "outputs": [],
   "source": []
  },
  {
   "cell_type": "code",
   "execution_count": null,
   "metadata": {},
   "outputs": [],
   "source": []
  },
  {
   "cell_type": "markdown",
   "metadata": {},
   "source": [
    "### NOTES: #aggregate\n",
    "   Python | Pandas dataframe.aggregate()\n",
    "Python is a great language for doing data analysis, primarily because of the fantastic ecosystem of data-centric Python packages. Pandas is one of those packages and makes importing and analyzing data much easier.\n",
    "\n",
    "Dataframe.aggregate() function is used to apply some aggregation across one or more column. Aggregate using callable, string, dict, or list of string/callables. Most frequently used aggregations are:\n",
    "\n",
    "sum: Return the sum of the values for the requested axis\n",
    "min: Return the minimum of the values for the requested axis\n",
    "max: Return the maximum of the values for the requested axis\n",
    "    SOURCE+Info: https://www.geeksforgeeks.org/python-pandas-dataframe-aggregate/"
   ]
  },
  {
   "cell_type": "code",
   "execution_count": null,
   "metadata": {},
   "outputs": [],
   "source": []
  },
  {
   "cell_type": "code",
   "execution_count": null,
   "metadata": {},
   "outputs": [],
   "source": []
  },
  {
   "cell_type": "markdown",
   "metadata": {},
   "source": [
    "##### groupby: \n",
    "group a dataframe by a column. In this case we will group by the unique client, the SK_ID_CURR column\n",
    "\n",
    "##### agg:    (aggregate)\n",
    "perform a calculation on the grouped data such as taking the mean of columns. We can either call the function directly (grouped_df.mean()) or use the agg function together with a list of transforms (grouped_df.agg([mean, max, min, sum]))\n",
    "\n",
    "##### merge: \n",
    "match the aggregated statistics to the appropriate client. We need to merge the original training data with the calculated stats on the SK_ID_CURR column which will insert NaN in any cell for which the client does not have the corresponding statistic\n",
    "\n",
    "##### rename\n",
    "We also use the (rename) function quite a bit specifying the columns to be renamed as a dictionary. This is useful in order to keep track of the new variables we create.\n",
    "\n",
    "####### NOW \n",
    "Write a function to automize this process and \"do it for us\" \n",
    "But, let's begin by implementing this by hand first...\n",
    "\n",
    "##### Next Steps\n",
    "Automize it..."
   ]
  },
  {
   "cell_type": "code",
   "execution_count": null,
   "metadata": {},
   "outputs": [],
   "source": [
    "### 001 -\n",
    "Let's begin by choosing variables & creating our own \"NEW VARIABLES\" via aggregate functions...\n",
    "\n",
    "Each of these VARIABLES will then be TESTED out in our: \"Mutiple Regression Model\"..."
   ]
  },
  {
   "cell_type": "code",
   "execution_count": null,
   "metadata": {},
   "outputs": [],
   "source": []
  },
  {
   "cell_type": "code",
   "execution_count": null,
   "metadata": {},
   "outputs": [],
   "source": []
  },
  {
   "cell_type": "markdown",
   "metadata": {},
   "source": [
    "## Read in Data \n",
    "\n",
    "### There are a total of 10 files: \n",
    "\n",
    "1 main file for training (with target) ==> (application_train.csv)\n",
    "\n",
    "1 main file for testing (without the target), ==> (application_test.csv)\n",
    "\n",
    "1 example submission file ==> (sample_submission.csv)\n",
    "\n",
    "\n",
    "### 6 other files containing additional information about each loan:\n",
    "\n",
    "bureau_balance.csv\n",
    "\n",
    "bureau.csv\n",
    "\n",
    "credit_card_balance.csv\n",
    "\n",
    "installments_payments.csv\n",
    "\n",
    "POS_CASH_balance.csv\n",
    "\n",
    "previous_application.csv\n",
    "\n",
    "\n",
    "## PLUS + \n",
    "##### important:\n",
    "(HomeCredit_columns_description.csv)\n",
    "\n",
    "It contains the description of all the columns with extra info:\n",
    "\n",
    "A ==> id\n",
    "\n",
    "B ==> Table ==>(refers to each of the above 9 Data-Sets (csv files)\n",
    "\n",
    "C ==> Row\n",
    "\n",
    "D ==> Description\n",
    "\n",
    "E ==> Specal ==> (for example if:\n",
    "\n",
    "'normalized', \n",
    "\n",
    "\"time only relative to the application\", \n",
    "\n",
    "\"rounded\"\n",
    "\n",
    "\"hashed\"\n",
    "\n",
    "\"recoded\"\n",
    "\n",
    "????? ===========> What does these ALL signify???\n",
    "\n",
    "\n",
    "    \n",
    "    \n",
    "\n",
    "# List files available\n",
    "###print(os.listdir(\"../input/\"))"
   ]
  },
  {
   "cell_type": "code",
   "execution_count": null,
   "metadata": {},
   "outputs": [],
   "source": []
  },
  {
   "cell_type": "code",
   "execution_count": null,
   "metadata": {},
   "outputs": [],
   "source": []
  },
  {
   "cell_type": "code",
   "execution_count": null,
   "metadata": {},
   "outputs": [],
   "source": [
    "Document eery pertinent thing\n",
    "what are the VALUES int heoword sof the offficilaa nakler\n",
    "\n"
   ]
  },
  {
   "cell_type": "markdown",
   "metadata": {},
   "source": [
    "### DEFINITIONS: \n",
    "\n",
    "\n",
    "\t1.\tAMTINCOMETOTAL is a monthly amount\n",
    "\t2.\tAMT_ANNUITY is a monthly amount as mentioned in the other thread. Note that the income is self-proclaimed and there may be errors in the amount, therefore the payment-to-income ratio (annuity over income) may be incorrect in some cases\n",
    "\t3.\tTerm of the loan is not provided in the sample. However, you can approximate it\n",
    "\t4.\tAll loans are fixed rate. The annuity stays the same, however it may change in some special cases, like early repayment or installment schedule change\n",
    "\n",
    "##### MONTHSBALANCE \n",
    "is relative to the application date of the current application (SKID_CURR)\n",
    "\n",
    "##### SKIDCURR \n",
    "is ID of the current loan and \n",
    "\n",
    "##### SKIDPREV \n",
    "is ID of the previous loans and no current loan can be in the previous loans. \n",
    "\n",
    "##### AMTRECIVABLE - \n",
    "Amount receivable on the previous credit - i.e. total amount receivable \n",
    "\n",
    "##### AMTRECEIVABLE_PRINCIPAL - \n",
    "Amount receivable for principal on the previous credit, i,e. a part of receivable that is attributable to principal\n",
    "\n",
    "##### bureaubalance.csv - MONTHSBALANCE - \n",
    "Month of balance relative to application date (-1 means the information to the freshest monthly snapshot, 0 means the information at application - often it will be the same as -1 as many banks are not updating the information to Credit Bureau regularly)\n",
    "\n",
    "##### POSCASHbalance.csv - MONTHS_BALANCE - \n",
    "(I renamed these...??? gotta check in the (\"HomeCredit_columns_description.csv\")\n",
    "Month of balance relative to application date (-1 means the freshest balance date)\n",
    "\n",
    "\n",
    "\n",
    "\n",
    "Dataset \n",
    "##### POSCASHBAL \n",
    "contains monthly snapshots of previous loans\n",
    "\t•\tMONTHSBALANCE - denotes the number of months relative to the current application (i.e. the loan is being repaid with increasing MONTHSBALANCE, in other words MONTH_BALANCE is becoming less negative)\n",
    "\t•\tCNT_INSTALMENT - denotes the total number of installments (term of the loan). This number may decrease if the client early repays the loan or increase in case of payment difficulties and change of the installment schedule\n",
    "\t•\tCNTINSTALMENTFUTURE - denotes the number of installments to be paid\n",
    "\t•\tNAMECONTRACTSTATUS - changes when the contract moves to another status (e.g. typically from active to completed when the loan is repaid)\n",
    "\n",
    "\n",
    " ##### EMP \n",
    " stands for employer, therefore:\n",
    "\t•\tFLAGEMPPHONE - employer phone\n",
    "\t•\tFLAGWORKPHONE - work phone\n",
    "\t•\tFLAG_PHONE - home phone\n",
    "\n",
    "#####  'XAP' and 'XNA'  and “HC” are nan values. \n",
    "(https://www.kaggle.com/c/home-credit-default-risk/discussion/58209)\n",
    "\n",
    "#####  'XAP' and 'XNA' \n",
    "==> (https://www.kaggle.com/c/home-credit-default-risk/discussion/57248)\n",
    "or (https://www.kaggle.com/c/home-credit-default-risk/discussion/59274)\n",
    "\n",
    "\n",
    "\n",
    "\n",
    "My 2 cents: I'll read it as:\n",
    "#####  XNA = not available\n",
    "\n",
    "##### XAP = not applicable (X as a logical not !?) ",
    "i.e. a consumer loan has no cashloanpurpose.\n",
    "\n",
    "Backing it with data from browsing the previous applications table.\n",
    "NAMECONTRACTTYPE NAMECASHLOAN_PURPOSE\n",
    "0 Consumer loans XAP\n",
    "1 Cash loans XNA\n",
    "\n",
    "\n",
    " Value 365243 denotes infinity in DAYS variables in the datasets, therefore you can consider them NA values. Also XNA/XAP denote NA values. (https://www.kaggle.com/c/home-credit-default-risk/discussion/57247)"
   ]
  },
  {
   "cell_type": "markdown",
   "metadata": {},
   "source": [
    "#### ALL discusions are \n",
    "HERE ==> https://www.kaggle.com/c/home-credit-default-risk/discussion"
   ]
  },
  {
   "cell_type": "code",
   "execution_count": null,
   "metadata": {},
   "outputs": [],
   "source": []
  },
  {
   "cell_type": "markdown",
   "metadata": {},
   "source": [
    "its important to look at this make a GRAPH?? \n",
    "HomeCredit_columns_description\n",
    "\n",
    "PATH:\n",
    "    /Users/mauroaz/Desktop/Capstone 4 - END/_Capstone_04_Loan/home-credit-default-risk/HomeCredit_columns_description.csv"
   ]
  },
  {
   "cell_type": "code",
   "execution_count": null,
   "metadata": {},
   "outputs": [],
   "source": []
  },
  {
   "cell_type": "markdown",
   "metadata": {},
   "source": [
    "## CUT oTHER BOOK"
   ]
  },
  {
   "cell_type": "markdown",
   "metadata": {},
   "source": [
    "### RESEARCH:\n",
    "P-Hacking  - https://www.youtube.com/watch?v=Gx0fAjNHb1M\n",
    "\n",
    "bonferroni correction - https://www.youtube.com/watch?v=rMuNniCTsOw\n",
    "    "
   ]
  },
  {
   "cell_type": "code",
   "execution_count": null,
   "metadata": {},
   "outputs": [],
   "source": []
  },
  {
   "cell_type": "code",
   "execution_count": null,
   "metadata": {},
   "outputs": [],
   "source": []
  },
  {
   "cell_type": "code",
   "execution_count": null,
   "metadata": {},
   "outputs": [],
   "source": []
  },
  {
   "cell_type": "code",
   "execution_count": null,
   "metadata": {},
   "outputs": [],
   "source": []
  },
  {
   "cell_type": "code",
   "execution_count": null,
   "metadata": {},
   "outputs": [],
   "source": []
  },
  {
   "cell_type": "code",
   "execution_count": null,
   "metadata": {},
   "outputs": [],
   "source": []
  },
  {
   "cell_type": "code",
   "execution_count": null,
   "metadata": {},
   "outputs": [],
   "source": []
  },
  {
   "cell_type": "code",
   "execution_count": null,
   "metadata": {},
   "outputs": [],
   "source": []
  },
  {
   "cell_type": "markdown",
   "metadata": {},
   "source": [
    "## Very Interesting --> https://www.kaggle.com/alijs1/explaining-model-s-predictions"
   ]
  },
  {
   "cell_type": "code",
   "execution_count": null,
   "metadata": {},
   "outputs": [],
   "source": []
  },
  {
   "cell_type": "code",
   "execution_count": null,
   "metadata": {},
   "outputs": [],
   "source": []
  },
  {
   "cell_type": "code",
   "execution_count": null,
   "metadata": {},
   "outputs": [],
   "source": []
  },
  {
   "cell_type": "markdown",
   "metadata": {},
   "source": [
    "## BEGIN new NoteBOOk like this: https://www.kaggle.com/sz8416/eda-baseline-model-using-application"
   ]
  },
  {
   "cell_type": "markdown",
   "metadata": {},
   "source": [
    "#### EDA ordered by\n",
    "\n",
    "##### Categorical Features\n",
    "    Target, Gender, Occupation, Income, House Typw, Credit Type, ....\n",
    "    \n",
    "    \n",
    "\n",
    "##### Numerical Features\n",
    "    Credit amount, Annuity Amount, Days Employed, \n",
    "    \n",
    "    \n",
    "##### Categorical Features by Labels\n",
    "\n",
    "##### Numerical Features by Labels\n",
    "\n",
    "\n",
    "### 4 A further exploration on application table\n",
    "4.1 Impute missing values\n",
    "\n",
    "### convert categorical using LabelEncoder\n",
    "    input Missing Values\n",
    "    \n",
    "## 4.2 Create more features\n",
    "??????????????/\n",
    "\n",
    "\n",
    "## 4.3 Train model\n",
    "?????????????/\n",
    "application: 'binary' for binary classification\n",
    "\n",
    "num_iterations: number of boosting iterations/trees, n_estimators in sklearn\n",
    "\n",
    "learning_rate\n",
    "\n",
    "num_leaves: number of leaves in one tree\n",
    "\n",
    "feature_fraction: part of features used for each iteration\n",
    "\n",
    "bagging_fraction: part of data used for each iteration\n",
    "\n",
    "lambda_l1/lambda_l2: L1/L2 regularization\n",
    "\n",
    "min_split_gain: the minimun gain to perform a split\n",
    "\n",
    "early_stopping_round: if the validation metric can't improve for n rounds, stop iteration\n",
    "\n",
    "categorical_feature: LightGBM API can deal with categorical feature automatically, but we need transform string into integer\n",
    "\n"
   ]
  },
  {
   "cell_type": "code",
   "execution_count": null,
   "metadata": {},
   "outputs": [],
   "source": []
  },
  {
   "cell_type": "markdown",
   "metadata": {},
   "source": [
    "## STATS - ?? INTERESTING https://www.kaggle.com/janiobachmann/loan-classification-detecting-credit-defaults"
   ]
  },
  {
   "cell_type": "code",
   "execution_count": null,
   "metadata": {},
   "outputs": [],
   "source": []
  }
 ],
 "metadata": {
  "kernelspec": {
   "display_name": "Python 3",
   "language": "python",
   "name": "python3"
  },
  "language_info": {
   "codemirror_mode": {
    "name": "ipython",
    "version": 3
   },
   "file_extension": ".py",
   "mimetype": "text/x-python",
   "name": "python",
   "nbconvert_exporter": "python",
   "pygments_lexer": "ipython3",
   "version": "3.7.3"
  }
 },
 "nbformat": 4,
 "nbformat_minor": 2
}
