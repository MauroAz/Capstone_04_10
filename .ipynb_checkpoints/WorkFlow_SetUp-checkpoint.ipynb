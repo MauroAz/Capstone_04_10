{
 "cells": [
  {
   "cell_type": "code",
   "execution_count": null,
   "metadata": {},
   "outputs": [],
   "source": []
  },
  {
   "cell_type": "code",
   "execution_count": 3,
   "metadata": {},
   "outputs": [],
   "source": [
    "import pandas as pd"
   ]
  },
  {
   "cell_type": "code",
   "execution_count": 4,
   "metadata": {},
   "outputs": [],
   "source": [
    "LinRegression = pd.read_csv('/Users/mauroaz/Downloads/home-credit-default-risk_02/new_file.csv')"
   ]
  },
  {
   "cell_type": "code",
   "execution_count": 5,
   "metadata": {},
   "outputs": [
    {
     "data": {
      "text/plain": [
       "(307511, 139)"
      ]
     },
     "execution_count": 5,
     "metadata": {},
     "output_type": "execute_result"
    }
   ],
   "source": [
    "LinRegression.shape"
   ]
  },
  {
   "cell_type": "code",
   "execution_count": 6,
   "metadata": {},
   "outputs": [
    {
     "data": {
      "text/plain": [
       "SK_ID_CURR                          int64\n",
       "TARGET                              int64\n",
       "NAME_CONTRACT_TYPE                 object\n",
       "CODE_GENDER                        object\n",
       "FLAG_OWN_CAR                       object\n",
       "                                   ...   \n",
       "income_avg_external_source        float64\n",
       "social_circle_obs_30_to_income    float64\n",
       "social_circle_def_30_to_income    float64\n",
       "social_circle_obs_60_to_income    float64\n",
       "social_circle_def_60_to_income    float64\n",
       "Length: 139, dtype: object"
      ]
     },
     "execution_count": 6,
     "metadata": {},
     "output_type": "execute_result"
    }
   ],
   "source": [
    "LinRegression.dtypes"
   ]
  },
  {
   "cell_type": "code",
   "execution_count": null,
   "metadata": {},
   "outputs": [],
   "source": []
  },
  {
   "cell_type": "code",
   "execution_count": 7,
   "metadata": {},
   "outputs": [
    {
     "data": {
      "text/plain": [
       "0         1\n",
       "1         0\n",
       "2         0\n",
       "3         0\n",
       "4         0\n",
       "         ..\n",
       "307506    0\n",
       "307507    0\n",
       "307508    0\n",
       "307509    1\n",
       "307510    0\n",
       "Name: TARGET, Length: 307511, dtype: int64"
      ]
     },
     "execution_count": 7,
     "metadata": {},
     "output_type": "execute_result"
    }
   ],
   "source": [
    "# Dril Down to check for: Float, Integer, Categorical\n",
    "LinRegression['TARGET']\n",
    "# The dependant VARIABLE has to be \"binary\" ???? or ????"
   ]
  },
  {
   "cell_type": "code",
   "execution_count": null,
   "metadata": {},
   "outputs": [],
   "source": []
  },
  {
   "cell_type": "code",
   "execution_count": null,
   "metadata": {},
   "outputs": [],
   "source": []
  },
  {
   "cell_type": "code",
   "execution_count": null,
   "metadata": {},
   "outputs": [],
   "source": []
  },
  {
   "cell_type": "markdown",
   "metadata": {},
   "source": [
    "## Dril Down to check for: Categoricals"
   ]
  },
  {
   "cell_type": "code",
   "execution_count": 13,
   "metadata": {},
   "outputs": [
    {
     "data": {
      "text/plain": [
       "['NAME_CONTRACT_TYPE',\n",
       " 'CODE_GENDER',\n",
       " 'FLAG_OWN_CAR',\n",
       " 'FLAG_OWN_REALTY',\n",
       " 'NAME_TYPE_SUITE',\n",
       " 'NAME_INCOME_TYPE',\n",
       " 'NAME_EDUCATION_TYPE',\n",
       " 'NAME_FAMILY_STATUS',\n",
       " 'NAME_HOUSING_TYPE',\n",
       " 'OCCUPATION_TYPE',\n",
       " 'WEEKDAY_APPR_PROCESS_START',\n",
       " 'ORGANIZATION_TYPE',\n",
       " 'FONDKAPREMONT_MODE',\n",
       " 'HOUSETYPE_MODE',\n",
       " 'WALLSMATERIAL_MODE',\n",
       " 'EMERGENCYSTATE_MODE']"
      ]
     },
     "execution_count": 13,
     "metadata": {},
     "output_type": "execute_result"
    }
   ],
   "source": [
    "# Dril Down to check for: Categoricals ==> (Python cannot recognize DATATYPE 'objects' ) \n",
    "LinRegression\n",
    "\n",
    "numerics = ['int16', 'int32', 'int64', 'float16', 'float32', 'float64']\n",
    "\n",
    "list(LinRegression.select_dtypes(exclude=numerics).columns)"
   ]
  },
  {
   "cell_type": "code",
   "execution_count": null,
   "metadata": {},
   "outputs": [],
   "source": []
  },
  {
   "cell_type": "code",
   "execution_count": null,
   "metadata": {},
   "outputs": [],
   "source": []
  },
  {
   "cell_type": "code",
   "execution_count": null,
   "metadata": {},
   "outputs": [],
   "source": []
  },
  {
   "cell_type": "markdown",
   "metadata": {},
   "source": [
    "## Dril Down to check for: Float, "
   ]
  },
  {
   "cell_type": "code",
   "execution_count": 10,
   "metadata": {
    "collapsed": true,
    "jupyter": {
     "outputs_hidden": true
    }
   },
   "outputs": [
    {
     "data": {
      "text/plain": [
       "['SK_ID_CURR',\n",
       " 'TARGET',\n",
       " 'CNT_CHILDREN',\n",
       " 'AMT_INCOME_TOTAL',\n",
       " 'AMT_CREDIT',\n",
       " 'AMT_ANNUITY',\n",
       " 'AMT_GOODS_PRICE',\n",
       " 'REGION_POPULATION_RELATIVE',\n",
       " 'DAYS_BIRTH',\n",
       " 'DAYS_EMPLOYED',\n",
       " 'DAYS_REGISTRATION',\n",
       " 'DAYS_ID_PUBLISH',\n",
       " 'OWN_CAR_AGE',\n",
       " 'FLAG_MOBIL',\n",
       " 'FLAG_EMP_PHONE',\n",
       " 'FLAG_WORK_PHONE',\n",
       " 'FLAG_CONT_MOBILE',\n",
       " 'FLAG_PHONE',\n",
       " 'FLAG_EMAIL',\n",
       " 'CNT_FAM_MEMBERS',\n",
       " 'REGION_RATING_CLIENT',\n",
       " 'REGION_RATING_CLIENT_W_CITY',\n",
       " 'HOUR_APPR_PROCESS_START',\n",
       " 'REG_REGION_NOT_LIVE_REGION',\n",
       " 'REG_REGION_NOT_WORK_REGION',\n",
       " 'LIVE_REGION_NOT_WORK_REGION',\n",
       " 'REG_CITY_NOT_LIVE_CITY',\n",
       " 'REG_CITY_NOT_WORK_CITY',\n",
       " 'LIVE_CITY_NOT_WORK_CITY',\n",
       " 'EXT_SOURCE_1',\n",
       " 'EXT_SOURCE_2',\n",
       " 'EXT_SOURCE_3',\n",
       " 'APARTMENTS_AVG',\n",
       " 'BASEMENTAREA_AVG',\n",
       " 'YEARS_BEGINEXPLUATATION_AVG',\n",
       " 'YEARS_BUILD_AVG',\n",
       " 'COMMONAREA_AVG',\n",
       " 'ELEVATORS_AVG',\n",
       " 'ENTRANCES_AVG',\n",
       " 'FLOORSMAX_AVG',\n",
       " 'FLOORSMIN_AVG',\n",
       " 'LANDAREA_AVG',\n",
       " 'LIVINGAPARTMENTS_AVG',\n",
       " 'LIVINGAREA_AVG',\n",
       " 'NONLIVINGAPARTMENTS_AVG',\n",
       " 'NONLIVINGAREA_AVG',\n",
       " 'APARTMENTS_MODE',\n",
       " 'BASEMENTAREA_MODE',\n",
       " 'YEARS_BEGINEXPLUATATION_MODE',\n",
       " 'YEARS_BUILD_MODE',\n",
       " 'COMMONAREA_MODE',\n",
       " 'ELEVATORS_MODE',\n",
       " 'ENTRANCES_MODE',\n",
       " 'FLOORSMAX_MODE',\n",
       " 'FLOORSMIN_MODE',\n",
       " 'LANDAREA_MODE',\n",
       " 'LIVINGAPARTMENTS_MODE',\n",
       " 'LIVINGAREA_MODE',\n",
       " 'NONLIVINGAPARTMENTS_MODE',\n",
       " 'NONLIVINGAREA_MODE',\n",
       " 'APARTMENTS_MEDI',\n",
       " 'BASEMENTAREA_MEDI',\n",
       " 'YEARS_BEGINEXPLUATATION_MEDI',\n",
       " 'YEARS_BUILD_MEDI',\n",
       " 'COMMONAREA_MEDI',\n",
       " 'ELEVATORS_MEDI',\n",
       " 'ENTRANCES_MEDI',\n",
       " 'FLOORSMAX_MEDI',\n",
       " 'FLOORSMIN_MEDI',\n",
       " 'LANDAREA_MEDI',\n",
       " 'LIVINGAPARTMENTS_MEDI',\n",
       " 'LIVINGAREA_MEDI',\n",
       " 'NONLIVINGAPARTMENTS_MEDI',\n",
       " 'NONLIVINGAREA_MEDI',\n",
       " 'TOTALAREA_MODE',\n",
       " 'OBS_30_CNT_SOCIAL_CIRCLE',\n",
       " 'DEF_30_CNT_SOCIAL_CIRCLE',\n",
       " 'OBS_60_CNT_SOCIAL_CIRCLE',\n",
       " 'DEF_60_CNT_SOCIAL_CIRCLE',\n",
       " 'DAYS_LAST_PHONE_CHANGE',\n",
       " 'FLAG_DOCUMENT_2',\n",
       " 'FLAG_DOCUMENT_3',\n",
       " 'FLAG_DOCUMENT_4',\n",
       " 'FLAG_DOCUMENT_5',\n",
       " 'FLAG_DOCUMENT_6',\n",
       " 'FLAG_DOCUMENT_7',\n",
       " 'FLAG_DOCUMENT_8',\n",
       " 'FLAG_DOCUMENT_9',\n",
       " 'FLAG_DOCUMENT_10',\n",
       " 'FLAG_DOCUMENT_11',\n",
       " 'FLAG_DOCUMENT_12',\n",
       " 'FLAG_DOCUMENT_13',\n",
       " 'FLAG_DOCUMENT_14',\n",
       " 'FLAG_DOCUMENT_15',\n",
       " 'FLAG_DOCUMENT_16',\n",
       " 'FLAG_DOCUMENT_17',\n",
       " 'FLAG_DOCUMENT_18',\n",
       " 'FLAG_DOCUMENT_19',\n",
       " 'FLAG_DOCUMENT_20',\n",
       " 'FLAG_DOCUMENT_21',\n",
       " 'AMT_REQ_CREDIT_BUREAU_HOUR',\n",
       " 'AMT_REQ_CREDIT_BUREAU_DAY',\n",
       " 'AMT_REQ_CREDIT_BUREAU_WEEK',\n",
       " 'AMT_REQ_CREDIT_BUREAU_MON',\n",
       " 'AMT_REQ_CREDIT_BUREAU_QRT',\n",
       " 'AMT_REQ_CREDIT_BUREAU_YEAR',\n",
       " 'employment_to_birth_ratio',\n",
       " 'credit_to_annuity_ratio',\n",
       " 'credit_to_goods_ratio',\n",
       " 'credit_to_income_ratio',\n",
       " 'income_credit_percentage',\n",
       " 'income_per_child',\n",
       " 'income_per_person',\n",
       " 'payment_rate',\n",
       " 'no_inquiries_MON_to_birth',\n",
       " 'no_inquiries_DAY_to_birth',\n",
       " 'no_inquiries_WEEK_to_birth',\n",
       " 'avg_external_source',\n",
       " 'income_avg_external_source',\n",
       " 'social_circle_obs_30_to_income',\n",
       " 'social_circle_def_30_to_income',\n",
       " 'social_circle_obs_60_to_income',\n",
       " 'social_circle_def_60_to_income']"
      ]
     },
     "execution_count": 10,
     "metadata": {},
     "output_type": "execute_result"
    }
   ],
   "source": [
    "# Dril Down to check for: Float, \n",
    "LinRegression \n",
    "numerics = ['int16', 'int32', 'int64', 'float16', 'float32', 'float64']\n",
    "\n",
    "list(LinRegression.select_dtypes(include=numerics).columns)"
   ]
  },
  {
   "cell_type": "code",
   "execution_count": null,
   "metadata": {},
   "outputs": [],
   "source": []
  },
  {
   "cell_type": "code",
   "execution_count": null,
   "metadata": {},
   "outputs": [],
   "source": []
  },
  {
   "cell_type": "markdown",
   "metadata": {},
   "source": [
    "## Checking for NULLS"
   ]
  },
  {
   "cell_type": "code",
   "execution_count": 11,
   "metadata": {
    "collapsed": true,
    "jupyter": {
     "outputs_hidden": true
    }
   },
   "outputs": [
    {
     "data": {
      "text/plain": [
       "SK_ID_CURR                             0\n",
       "TARGET                                 0\n",
       "NAME_CONTRACT_TYPE                     0\n",
       "CODE_GENDER                            0\n",
       "FLAG_OWN_CAR                           0\n",
       "FLAG_OWN_REALTY                        0\n",
       "CNT_CHILDREN                           0\n",
       "AMT_INCOME_TOTAL                       0\n",
       "AMT_CREDIT                             0\n",
       "AMT_ANNUITY                           12\n",
       "AMT_GOODS_PRICE                      278\n",
       "NAME_TYPE_SUITE                     1292\n",
       "NAME_INCOME_TYPE                       0\n",
       "NAME_EDUCATION_TYPE                    0\n",
       "NAME_FAMILY_STATUS                     0\n",
       "NAME_HOUSING_TYPE                      0\n",
       "REGION_POPULATION_RELATIVE             0\n",
       "DAYS_BIRTH                             0\n",
       "DAYS_EMPLOYED                          0\n",
       "DAYS_REGISTRATION                      0\n",
       "DAYS_ID_PUBLISH                        0\n",
       "OWN_CAR_AGE                       202929\n",
       "FLAG_MOBIL                             0\n",
       "FLAG_EMP_PHONE                         0\n",
       "FLAG_WORK_PHONE                        0\n",
       "FLAG_CONT_MOBILE                       0\n",
       "FLAG_PHONE                             0\n",
       "FLAG_EMAIL                             0\n",
       "OCCUPATION_TYPE                    96391\n",
       "CNT_FAM_MEMBERS                        2\n",
       "REGION_RATING_CLIENT                   0\n",
       "REGION_RATING_CLIENT_W_CITY            0\n",
       "WEEKDAY_APPR_PROCESS_START             0\n",
       "HOUR_APPR_PROCESS_START                0\n",
       "REG_REGION_NOT_LIVE_REGION             0\n",
       "REG_REGION_NOT_WORK_REGION             0\n",
       "LIVE_REGION_NOT_WORK_REGION            0\n",
       "REG_CITY_NOT_LIVE_CITY                 0\n",
       "REG_CITY_NOT_WORK_CITY                 0\n",
       "LIVE_CITY_NOT_WORK_CITY                0\n",
       "ORGANIZATION_TYPE                      0\n",
       "EXT_SOURCE_1                      173378\n",
       "EXT_SOURCE_2                         660\n",
       "EXT_SOURCE_3                       60965\n",
       "APARTMENTS_AVG                    156061\n",
       "BASEMENTAREA_AVG                  179943\n",
       "YEARS_BEGINEXPLUATATION_AVG       150007\n",
       "YEARS_BUILD_AVG                   204488\n",
       "COMMONAREA_AVG                    214865\n",
       "ELEVATORS_AVG                     163891\n",
       "ENTRANCES_AVG                     154828\n",
       "FLOORSMAX_AVG                     153020\n",
       "FLOORSMIN_AVG                     208642\n",
       "LANDAREA_AVG                      182590\n",
       "LIVINGAPARTMENTS_AVG              210199\n",
       "LIVINGAREA_AVG                    154350\n",
       "NONLIVINGAPARTMENTS_AVG           213514\n",
       "NONLIVINGAREA_AVG                 169682\n",
       "APARTMENTS_MODE                   156061\n",
       "BASEMENTAREA_MODE                 179943\n",
       "YEARS_BEGINEXPLUATATION_MODE      150007\n",
       "YEARS_BUILD_MODE                  204488\n",
       "COMMONAREA_MODE                   214865\n",
       "ELEVATORS_MODE                    163891\n",
       "ENTRANCES_MODE                    154828\n",
       "FLOORSMAX_MODE                    153020\n",
       "FLOORSMIN_MODE                    208642\n",
       "LANDAREA_MODE                     182590\n",
       "LIVINGAPARTMENTS_MODE             210199\n",
       "LIVINGAREA_MODE                   154350\n",
       "NONLIVINGAPARTMENTS_MODE          213514\n",
       "NONLIVINGAREA_MODE                169682\n",
       "APARTMENTS_MEDI                   156061\n",
       "BASEMENTAREA_MEDI                 179943\n",
       "YEARS_BEGINEXPLUATATION_MEDI      150007\n",
       "YEARS_BUILD_MEDI                  204488\n",
       "COMMONAREA_MEDI                   214865\n",
       "ELEVATORS_MEDI                    163891\n",
       "ENTRANCES_MEDI                    154828\n",
       "FLOORSMAX_MEDI                    153020\n",
       "FLOORSMIN_MEDI                    208642\n",
       "LANDAREA_MEDI                     182590\n",
       "LIVINGAPARTMENTS_MEDI             210199\n",
       "LIVINGAREA_MEDI                   154350\n",
       "NONLIVINGAPARTMENTS_MEDI          213514\n",
       "NONLIVINGAREA_MEDI                169682\n",
       "FONDKAPREMONT_MODE                210295\n",
       "HOUSETYPE_MODE                    154297\n",
       "TOTALAREA_MODE                    148431\n",
       "WALLSMATERIAL_MODE                156341\n",
       "EMERGENCYSTATE_MODE               145755\n",
       "OBS_30_CNT_SOCIAL_CIRCLE            1021\n",
       "DEF_30_CNT_SOCIAL_CIRCLE            1021\n",
       "OBS_60_CNT_SOCIAL_CIRCLE            1021\n",
       "DEF_60_CNT_SOCIAL_CIRCLE            1021\n",
       "DAYS_LAST_PHONE_CHANGE                 1\n",
       "FLAG_DOCUMENT_2                        0\n",
       "FLAG_DOCUMENT_3                        0\n",
       "FLAG_DOCUMENT_4                        0\n",
       "FLAG_DOCUMENT_5                        0\n",
       "FLAG_DOCUMENT_6                        0\n",
       "FLAG_DOCUMENT_7                        0\n",
       "FLAG_DOCUMENT_8                        0\n",
       "FLAG_DOCUMENT_9                        0\n",
       "FLAG_DOCUMENT_10                       0\n",
       "FLAG_DOCUMENT_11                       0\n",
       "FLAG_DOCUMENT_12                       0\n",
       "FLAG_DOCUMENT_13                       0\n",
       "FLAG_DOCUMENT_14                       0\n",
       "FLAG_DOCUMENT_15                       0\n",
       "FLAG_DOCUMENT_16                       0\n",
       "FLAG_DOCUMENT_17                       0\n",
       "FLAG_DOCUMENT_18                       0\n",
       "FLAG_DOCUMENT_19                       0\n",
       "FLAG_DOCUMENT_20                       0\n",
       "FLAG_DOCUMENT_21                       0\n",
       "AMT_REQ_CREDIT_BUREAU_HOUR         41519\n",
       "AMT_REQ_CREDIT_BUREAU_DAY          41519\n",
       "AMT_REQ_CREDIT_BUREAU_WEEK         41519\n",
       "AMT_REQ_CREDIT_BUREAU_MON          41519\n",
       "AMT_REQ_CREDIT_BUREAU_QRT          41519\n",
       "AMT_REQ_CREDIT_BUREAU_YEAR         41519\n",
       "employment_to_birth_ratio              0\n",
       "credit_to_annuity_ratio               12\n",
       "credit_to_goods_ratio                278\n",
       "credit_to_income_ratio                 0\n",
       "income_credit_percentage               0\n",
       "income_per_child                       0\n",
       "income_per_person                      2\n",
       "payment_rate                          12\n",
       "no_inquiries_MON_to_birth          41519\n",
       "no_inquiries_DAY_to_birth          41519\n",
       "no_inquiries_WEEK_to_birth         41519\n",
       "avg_external_source               197922\n",
       "income_avg_external_source        197922\n",
       "social_circle_obs_30_to_income      1021\n",
       "social_circle_def_30_to_income      1021\n",
       "social_circle_obs_60_to_income      1021\n",
       "social_circle_def_60_to_income      1021\n",
       "dtype: int64"
      ]
     },
     "execution_count": 11,
     "metadata": {},
     "output_type": "execute_result"
    }
   ],
   "source": [
    "#Checking for NULLS\n",
    "pd.options.display.max_rows = 139\n",
    "LinRegression.isnull().sum()"
   ]
  },
  {
   "cell_type": "code",
   "execution_count": null,
   "metadata": {},
   "outputs": [],
   "source": []
  },
  {
   "cell_type": "code",
   "execution_count": null,
   "metadata": {},
   "outputs": [],
   "source": []
  },
  {
   "cell_type": "markdown",
   "metadata": {},
   "source": [
    "## After you find where the NULLS are we can either \n",
    "* \"DROP ALL of them\"\n",
    "* \"or PICK which to choose\"\n"
   ]
  },
  {
   "cell_type": "markdown",
   "metadata": {},
   "source": [
    "#### DROP all the NULLS"
   ]
  },
  {
   "cell_type": "code",
   "execution_count": null,
   "metadata": {},
   "outputs": [],
   "source": [
    "##DROP the Nulls  ALL THE NULLS\n",
    "#df.dropna(inplace=True)\n",
    "#df.shape\n",
    "\n",
    "===========\n",
    "#LinRegression.dropna(inplace=True)\n",
    "#LinRegression.shape"
   ]
  },
  {
   "cell_type": "code",
   "execution_count": null,
   "metadata": {},
   "outputs": [],
   "source": []
  },
  {
   "cell_type": "markdown",
   "metadata": {},
   "source": [
    "#### DROP ROWS some Nulls by PICKING THEM"
   ]
  },
  {
   "cell_type": "code",
   "execution_count": null,
   "metadata": {},
   "outputs": [],
   "source": [
    "## DROP ROWS some Nulls by PICKING THEM\n",
    "##df.dropna(subset=['', ''])\n",
    "\n",
    "\n",
    "## FOR EXAMPLE\n",
    "##LinRegression.dropna(subset=['avg_external_source', 'social_circle_def_30_to_income'])"
   ]
  },
  {
   "cell_type": "code",
   "execution_count": null,
   "metadata": {},
   "outputs": [],
   "source": []
  },
  {
   "cell_type": "code",
   "execution_count": null,
   "metadata": {},
   "outputs": [],
   "source": []
  },
  {
   "cell_type": "markdown",
   "metadata": {},
   "source": [
    "## To Keep the results lets redefine it"
   ]
  },
  {
   "cell_type": "code",
   "execution_count": null,
   "metadata": {},
   "outputs": [],
   "source": [
    "# TO Keep the results lets redefine it\n",
    "#df = df.dropna(subset=[ '', '', ''])\n",
    "#Example below\n",
    "\n",
    "#LinReg_without_Nulls = LinRegression.dropna(subset=[ 'social_circle_def_30_to_income'])"
   ]
  },
  {
   "cell_type": "code",
   "execution_count": null,
   "metadata": {},
   "outputs": [],
   "source": []
  },
  {
   "cell_type": "code",
   "execution_count": null,
   "metadata": {},
   "outputs": [],
   "source": []
  },
  {
   "cell_type": "code",
   "execution_count": null,
   "metadata": {},
   "outputs": [],
   "source": []
  },
  {
   "cell_type": "code",
   "execution_count": null,
   "metadata": {},
   "outputs": [],
   "source": []
  },
  {
   "cell_type": "code",
   "execution_count": null,
   "metadata": {},
   "outputs": [],
   "source": [
    "##LinRegression.info(max_cols=139)"
   ]
  },
  {
   "cell_type": "code",
   "execution_count": null,
   "metadata": {},
   "outputs": [],
   "source": []
  },
  {
   "cell_type": "code",
   "execution_count": null,
   "metadata": {},
   "outputs": [],
   "source": []
  },
  {
   "cell_type": "code",
   "execution_count": null,
   "metadata": {},
   "outputs": [],
   "source": []
  },
  {
   "cell_type": "code",
   "execution_count": null,
   "metadata": {},
   "outputs": [],
   "source": []
  },
  {
   "cell_type": "code",
   "execution_count": null,
   "metadata": {},
   "outputs": [],
   "source": []
  },
  {
   "cell_type": "code",
   "execution_count": null,
   "metadata": {},
   "outputs": [],
   "source": []
  }
 ],
 "metadata": {
  "kernelspec": {
   "display_name": "Python 3",
   "language": "python",
   "name": "python3"
  },
  "language_info": {
   "codemirror_mode": {
    "name": "ipython",
    "version": 3
   },
   "file_extension": ".py",
   "mimetype": "text/x-python",
   "name": "python",
   "nbconvert_exporter": "python",
   "pygments_lexer": "ipython3",
   "version": "3.7.3"
  }
 },
 "nbformat": 4,
 "nbformat_minor": 4
}
